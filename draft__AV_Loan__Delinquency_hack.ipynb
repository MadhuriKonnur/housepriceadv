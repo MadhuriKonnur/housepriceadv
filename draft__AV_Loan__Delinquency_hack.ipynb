{
  "nbformat": 4,
  "nbformat_minor": 0,
  "metadata": {
    "colab": {
      "name": "draft_ AV_Loan_ Delinquency_hack.ipynb",
      "version": "0.3.2",
      "provenance": [],
      "collapsed_sections": [],
      "include_colab_link": true
    },
    "kernelspec": {
      "name": "python3",
      "display_name": "Python 3"
    }
  },
  "cells": [
    {
      "cell_type": "markdown",
      "metadata": {
        "id": "view-in-github",
        "colab_type": "text"
      },
      "source": [
        "<a href=\"https://colab.research.google.com/github/MadhuriKonnur/housepriceadv/blob/master/draft__AV_Loan__Delinquency_hack.ipynb\" target=\"_parent\"><img src=\"https://colab.research.google.com/assets/colab-badge.svg\" alt=\"Open In Colab\"/></a>"
      ]
    },
    {
      "cell_type": "markdown",
      "metadata": {
        "id": "sblB-xXY875G",
        "colab_type": "text"
      },
      "source": [
        "**Loan default prediction**\n",
        "*\n",
        "\n",
        "by Madhuri Konnur"
      ]
    },
    {
      "cell_type": "code",
      "metadata": {
        "id": "fBprt-1Fnfit",
        "colab_type": "code",
        "outputId": "0d388635-ee1f-401b-cd1c-3d9efaece23d",
        "colab": {
          "base_uri": "https://localhost:8080/",
          "height": 50
        }
      },
      "source": [
        "# Code to read csv file into Colaboratory:\n",
        "!pip install -U -q PyDrive\n",
        "from pydrive.auth import GoogleAuth\n",
        "from pydrive.drive import GoogleDrive\n",
        "from google.colab import auth\n",
        "from oauth2client.client import GoogleCredentials\n"
      ],
      "execution_count": 0,
      "outputs": [
        {
          "output_type": "stream",
          "text": [
            "\u001b[?25l\r\u001b[K     |▎                               | 10kB 19.0MB/s eta 0:00:01\r\u001b[K     |▋                               | 20kB 3.4MB/s eta 0:00:01\r\u001b[K     |█                               | 30kB 4.9MB/s eta 0:00:01\r\u001b[K     |█▎                              | 40kB 3.1MB/s eta 0:00:01\r\u001b[K     |█▋                              | 51kB 3.9MB/s eta 0:00:01\r\u001b[K     |██                              | 61kB 4.6MB/s eta 0:00:01\r\u001b[K     |██▎                             | 71kB 5.3MB/s eta 0:00:01\r\u001b[K     |██▋                             | 81kB 5.9MB/s eta 0:00:01\r\u001b[K     |███                             | 92kB 6.6MB/s eta 0:00:01\r\u001b[K     |███▎                            | 102kB 5.1MB/s eta 0:00:01\r\u001b[K     |███▋                            | 112kB 5.1MB/s eta 0:00:01\r\u001b[K     |████                            | 122kB 5.1MB/s eta 0:00:01\r\u001b[K     |████▎                           | 133kB 5.1MB/s eta 0:00:01\r\u001b[K     |████▋                           | 143kB 5.1MB/s eta 0:00:01\r\u001b[K     |█████                           | 153kB 5.1MB/s eta 0:00:01\r\u001b[K     |█████▎                          | 163kB 5.1MB/s eta 0:00:01\r\u001b[K     |█████▋                          | 174kB 5.1MB/s eta 0:00:01\r\u001b[K     |██████                          | 184kB 5.1MB/s eta 0:00:01\r\u001b[K     |██████▎                         | 194kB 5.1MB/s eta 0:00:01\r\u001b[K     |██████▋                         | 204kB 5.1MB/s eta 0:00:01\r\u001b[K     |███████                         | 215kB 5.1MB/s eta 0:00:01\r\u001b[K     |███████▎                        | 225kB 5.1MB/s eta 0:00:01\r\u001b[K     |███████▋                        | 235kB 5.1MB/s eta 0:00:01\r\u001b[K     |████████                        | 245kB 5.1MB/s eta 0:00:01\r\u001b[K     |████████▎                       | 256kB 5.1MB/s eta 0:00:01\r\u001b[K     |████████▋                       | 266kB 5.1MB/s eta 0:00:01\r\u001b[K     |█████████                       | 276kB 5.1MB/s eta 0:00:01\r\u001b[K     |█████████▎                      | 286kB 5.1MB/s eta 0:00:01\r\u001b[K     |█████████▋                      | 296kB 5.1MB/s eta 0:00:01\r\u001b[K     |██████████                      | 307kB 5.1MB/s eta 0:00:01\r\u001b[K     |██████████▎                     | 317kB 5.1MB/s eta 0:00:01\r\u001b[K     |██████████▋                     | 327kB 5.1MB/s eta 0:00:01\r\u001b[K     |███████████                     | 337kB 5.1MB/s eta 0:00:01\r\u001b[K     |███████████▎                    | 348kB 5.1MB/s eta 0:00:01\r\u001b[K     |███████████▋                    | 358kB 5.1MB/s eta 0:00:01\r\u001b[K     |████████████                    | 368kB 5.1MB/s eta 0:00:01\r\u001b[K     |████████████▎                   | 378kB 5.1MB/s eta 0:00:01\r\u001b[K     |████████████▋                   | 389kB 5.1MB/s eta 0:00:01\r\u001b[K     |█████████████                   | 399kB 5.1MB/s eta 0:00:01\r\u001b[K     |█████████████▎                  | 409kB 5.1MB/s eta 0:00:01\r\u001b[K     |█████████████▋                  | 419kB 5.1MB/s eta 0:00:01\r\u001b[K     |██████████████                  | 430kB 5.1MB/s eta 0:00:01\r\u001b[K     |██████████████▎                 | 440kB 5.1MB/s eta 0:00:01\r\u001b[K     |██████████████▋                 | 450kB 5.1MB/s eta 0:00:01\r\u001b[K     |███████████████                 | 460kB 5.1MB/s eta 0:00:01\r\u001b[K     |███████████████▎                | 471kB 5.1MB/s eta 0:00:01\r\u001b[K     |███████████████▋                | 481kB 5.1MB/s eta 0:00:01\r\u001b[K     |████████████████                | 491kB 5.1MB/s eta 0:00:01\r\u001b[K     |████████████████▎               | 501kB 5.1MB/s eta 0:00:01\r\u001b[K     |████████████████▋               | 512kB 5.1MB/s eta 0:00:01\r\u001b[K     |█████████████████               | 522kB 5.1MB/s eta 0:00:01\r\u001b[K     |█████████████████▎              | 532kB 5.1MB/s eta 0:00:01\r\u001b[K     |█████████████████▋              | 542kB 5.1MB/s eta 0:00:01\r\u001b[K     |██████████████████              | 552kB 5.1MB/s eta 0:00:01\r\u001b[K     |██████████████████▎             | 563kB 5.1MB/s eta 0:00:01\r\u001b[K     |██████████████████▋             | 573kB 5.1MB/s eta 0:00:01\r\u001b[K     |███████████████████             | 583kB 5.1MB/s eta 0:00:01\r\u001b[K     |███████████████████▎            | 593kB 5.1MB/s eta 0:00:01\r\u001b[K     |███████████████████▋            | 604kB 5.1MB/s eta 0:00:01\r\u001b[K     |████████████████████            | 614kB 5.1MB/s eta 0:00:01\r\u001b[K     |████████████████████▎           | 624kB 5.1MB/s eta 0:00:01\r\u001b[K     |████████████████████▋           | 634kB 5.1MB/s eta 0:00:01\r\u001b[K     |█████████████████████           | 645kB 5.1MB/s eta 0:00:01\r\u001b[K     |█████████████████████▎          | 655kB 5.1MB/s eta 0:00:01\r\u001b[K     |█████████████████████▋          | 665kB 5.1MB/s eta 0:00:01\r\u001b[K     |██████████████████████          | 675kB 5.1MB/s eta 0:00:01\r\u001b[K     |██████████████████████▎         | 686kB 5.1MB/s eta 0:00:01\r\u001b[K     |██████████████████████▋         | 696kB 5.1MB/s eta 0:00:01\r\u001b[K     |███████████████████████         | 706kB 5.1MB/s eta 0:00:01\r\u001b[K     |███████████████████████▎        | 716kB 5.1MB/s eta 0:00:01\r\u001b[K     |███████████████████████▋        | 727kB 5.1MB/s eta 0:00:01\r\u001b[K     |████████████████████████        | 737kB 5.1MB/s eta 0:00:01\r\u001b[K     |████████████████████████▎       | 747kB 5.1MB/s eta 0:00:01\r\u001b[K     |████████████████████████▋       | 757kB 5.1MB/s eta 0:00:01\r\u001b[K     |████████████████████████▉       | 768kB 5.1MB/s eta 0:00:01\r\u001b[K     |█████████████████████████▏      | 778kB 5.1MB/s eta 0:00:01\r\u001b[K     |█████████████████████████▌      | 788kB 5.1MB/s eta 0:00:01\r\u001b[K     |█████████████████████████▉      | 798kB 5.1MB/s eta 0:00:01\r\u001b[K     |██████████████████████████▏     | 808kB 5.1MB/s eta 0:00:01\r\u001b[K     |██████████████████████████▌     | 819kB 5.1MB/s eta 0:00:01\r\u001b[K     |██████████████████████████▉     | 829kB 5.1MB/s eta 0:00:01\r\u001b[K     |███████████████████████████▏    | 839kB 5.1MB/s eta 0:00:01\r\u001b[K     |███████████████████████████▌    | 849kB 5.1MB/s eta 0:00:01\r\u001b[K     |███████████████████████████▉    | 860kB 5.1MB/s eta 0:00:01\r\u001b[K     |████████████████████████████▏   | 870kB 5.1MB/s eta 0:00:01\r\u001b[K     |████████████████████████████▌   | 880kB 5.1MB/s eta 0:00:01\r\u001b[K     |████████████████████████████▉   | 890kB 5.1MB/s eta 0:00:01\r\u001b[K     |█████████████████████████████▏  | 901kB 5.1MB/s eta 0:00:01\r\u001b[K     |█████████████████████████████▌  | 911kB 5.1MB/s eta 0:00:01\r\u001b[K     |█████████████████████████████▉  | 921kB 5.1MB/s eta 0:00:01\r\u001b[K     |██████████████████████████████▏ | 931kB 5.1MB/s eta 0:00:01\r\u001b[K     |██████████████████████████████▌ | 942kB 5.1MB/s eta 0:00:01\r\u001b[K     |██████████████████████████████▉ | 952kB 5.1MB/s eta 0:00:01\r\u001b[K     |███████████████████████████████▏| 962kB 5.1MB/s eta 0:00:01\r\u001b[K     |███████████████████████████████▌| 972kB 5.1MB/s eta 0:00:01\r\u001b[K     |███████████████████████████████▉| 983kB 5.1MB/s eta 0:00:01\r\u001b[K     |████████████████████████████████| 993kB 5.1MB/s \n",
            "\u001b[?25h  Building wheel for PyDrive (setup.py) ... \u001b[?25l\u001b[?25hdone\n"
          ],
          "name": "stdout"
        }
      ]
    },
    {
      "cell_type": "code",
      "metadata": {
        "id": "eXuWLzaJDJ--",
        "colab_type": "code",
        "colab": {}
      },
      "source": [
        "# Authenticate and create the PyDrive client.\n",
        "auth.authenticate_user()\n",
        "gauth = GoogleAuth()\n",
        "gauth.credentials = GoogleCredentials.get_application_default()\n",
        "drive = GoogleDrive(gauth)"
      ],
      "execution_count": 0,
      "outputs": []
    },
    {
      "cell_type": "code",
      "metadata": {
        "id": "wgSjQ4RwEGJg",
        "colab_type": "code",
        "colab": {}
      },
      "source": [
        "# Data  dependencies\n",
        "import numpy as np\n",
        "import seaborn as sns\n",
        "import pandas as pd\n",
        "import matplotlib.pyplot as plt\n",
        "from scipy import stats\n",
        "%matplotlib inline\n",
        "\n",
        "\n",
        "from sklearn.model_selection import train_test_split\n",
        "from sklearn.linear_model import LogisticRegression\n",
        "from sklearn.dummy import DummyClassifier\n",
        "from sklearn.metrics import accuracy_score, f1_score, confusion_matrix, recall_score"
      ],
      "execution_count": 0,
      "outputs": []
    },
    {
      "cell_type": "markdown",
      "metadata": {
        "id": "AedbC801Fnv_",
        "colab_type": "text"
      },
      "source": [
        "access data from google  drive , for  example  from  drive  go to sharable  links  of  ( .csv files ) .\n",
        "Take  test  and  train  data  csv files  shareable  links.\n",
        "paste  it  and  take  out  id's \n",
        "\n",
        "train - https://drive.google.com/open?id=12EigyMTPblusJfY4m90iKrYHhyuxguEl\n",
        "test- https://drive.google.com/open?id=1ACWrxAvHKcA-Av7G1CtsDw8gLxZCsw5Q"
      ]
    },
    {
      "cell_type": "code",
      "metadata": {
        "id": "0sUFZA0ipfPm",
        "colab_type": "code",
        "colab": {}
      },
      "source": [
        "# Authenticate and create the PyDrive client.\n",
        "auth.authenticate_user()\n",
        "gauth = GoogleAuth()\n",
        "gauth.credentials = GoogleCredentials.get_application_default()\n",
        "drive = GoogleDrive(gauth)"
      ],
      "execution_count": 0,
      "outputs": []
    },
    {
      "cell_type": "code",
      "metadata": {
        "id": "fvAQn6ZqGvJO",
        "colab_type": "code",
        "colab": {}
      },
      "source": [
        "#Google drive  data access\n",
        "train_downloaded=drive.CreateFile({'id':'12EigyMTPblusJfY4m90iKrYHhyuxguEl'})\n",
        "train_downloaded.GetContentFile('train.csv')\n",
        "test_downloaded=drive.CreateFile({'id':'1ACWrxAvHKcA-Av7G1CtsDw8gLxZCsw5Q'})\n",
        "test_downloaded.GetContentFile('test.csv')\n"
      ],
      "execution_count": 0,
      "outputs": []
    },
    {
      "cell_type": "code",
      "metadata": {
        "id": "n-3fmOMkIF2S",
        "colab_type": "code",
        "colab": {}
      },
      "source": [
        "train_d=pd.read_csv('train.csv')\n",
        "test_d=pd.read_csv('test.csv')"
      ],
      "execution_count": 0,
      "outputs": []
    },
    {
      "cell_type": "code",
      "metadata": {
        "id": "vjxmKWeLIW6l",
        "colab_type": "code",
        "outputId": "beb35ba3-cc55-402c-da1f-7c087ba0a446",
        "colab": {
          "base_uri": "https://localhost:8080/",
          "height": 267
        }
      },
      "source": [
        "train_d.head()"
      ],
      "execution_count": 0,
      "outputs": [
        {
          "output_type": "execute_result",
          "data": {
            "text/html": [
              "<div>\n",
              "<style scoped>\n",
              "    .dataframe tbody tr th:only-of-type {\n",
              "        vertical-align: middle;\n",
              "    }\n",
              "\n",
              "    .dataframe tbody tr th {\n",
              "        vertical-align: top;\n",
              "    }\n",
              "\n",
              "    .dataframe thead th {\n",
              "        text-align: right;\n",
              "    }\n",
              "</style>\n",
              "<table border=\"1\" class=\"dataframe\">\n",
              "  <thead>\n",
              "    <tr style=\"text-align: right;\">\n",
              "      <th></th>\n",
              "      <th>loan_id</th>\n",
              "      <th>source</th>\n",
              "      <th>financial_institution</th>\n",
              "      <th>interest_rate</th>\n",
              "      <th>unpaid_principal_bal</th>\n",
              "      <th>loan_term</th>\n",
              "      <th>origination_date</th>\n",
              "      <th>first_payment_date</th>\n",
              "      <th>loan_to_value</th>\n",
              "      <th>number_of_borrowers</th>\n",
              "      <th>debt_to_income_ratio</th>\n",
              "      <th>borrower_credit_score</th>\n",
              "      <th>loan_purpose</th>\n",
              "      <th>insurance_percent</th>\n",
              "      <th>co-borrower_credit_score</th>\n",
              "      <th>insurance_type</th>\n",
              "      <th>m1</th>\n",
              "      <th>m2</th>\n",
              "      <th>m3</th>\n",
              "      <th>m4</th>\n",
              "      <th>m5</th>\n",
              "      <th>m6</th>\n",
              "      <th>m7</th>\n",
              "      <th>m8</th>\n",
              "      <th>m9</th>\n",
              "      <th>m10</th>\n",
              "      <th>m11</th>\n",
              "      <th>m12</th>\n",
              "      <th>m13</th>\n",
              "    </tr>\n",
              "  </thead>\n",
              "  <tbody>\n",
              "    <tr>\n",
              "      <th>0</th>\n",
              "      <td>268055008619</td>\n",
              "      <td>Z</td>\n",
              "      <td>Turner, Baldwin and Rhodes</td>\n",
              "      <td>4.250</td>\n",
              "      <td>214000</td>\n",
              "      <td>360</td>\n",
              "      <td>2012-03-01</td>\n",
              "      <td>05/2012</td>\n",
              "      <td>95</td>\n",
              "      <td>1.0</td>\n",
              "      <td>22.0</td>\n",
              "      <td>694.0</td>\n",
              "      <td>C86</td>\n",
              "      <td>30.0</td>\n",
              "      <td>0.0</td>\n",
              "      <td>0.0</td>\n",
              "      <td>0</td>\n",
              "      <td>0</td>\n",
              "      <td>0</td>\n",
              "      <td>0</td>\n",
              "      <td>0</td>\n",
              "      <td>0</td>\n",
              "      <td>1</td>\n",
              "      <td>0</td>\n",
              "      <td>0</td>\n",
              "      <td>0</td>\n",
              "      <td>0</td>\n",
              "      <td>0</td>\n",
              "      <td>1</td>\n",
              "    </tr>\n",
              "    <tr>\n",
              "      <th>1</th>\n",
              "      <td>672831657627</td>\n",
              "      <td>Y</td>\n",
              "      <td>Swanson, Newton and Miller</td>\n",
              "      <td>4.875</td>\n",
              "      <td>144000</td>\n",
              "      <td>360</td>\n",
              "      <td>2012-01-01</td>\n",
              "      <td>03/2012</td>\n",
              "      <td>72</td>\n",
              "      <td>1.0</td>\n",
              "      <td>44.0</td>\n",
              "      <td>697.0</td>\n",
              "      <td>B12</td>\n",
              "      <td>0.0</td>\n",
              "      <td>0.0</td>\n",
              "      <td>0.0</td>\n",
              "      <td>0</td>\n",
              "      <td>0</td>\n",
              "      <td>0</td>\n",
              "      <td>0</td>\n",
              "      <td>0</td>\n",
              "      <td>0</td>\n",
              "      <td>0</td>\n",
              "      <td>0</td>\n",
              "      <td>0</td>\n",
              "      <td>0</td>\n",
              "      <td>1</td>\n",
              "      <td>0</td>\n",
              "      <td>1</td>\n",
              "    </tr>\n",
              "    <tr>\n",
              "      <th>2</th>\n",
              "      <td>742515242108</td>\n",
              "      <td>Z</td>\n",
              "      <td>Thornton-Davis</td>\n",
              "      <td>3.250</td>\n",
              "      <td>366000</td>\n",
              "      <td>180</td>\n",
              "      <td>2012-01-01</td>\n",
              "      <td>03/2012</td>\n",
              "      <td>49</td>\n",
              "      <td>1.0</td>\n",
              "      <td>33.0</td>\n",
              "      <td>780.0</td>\n",
              "      <td>B12</td>\n",
              "      <td>0.0</td>\n",
              "      <td>0.0</td>\n",
              "      <td>0.0</td>\n",
              "      <td>0</td>\n",
              "      <td>0</td>\n",
              "      <td>0</td>\n",
              "      <td>0</td>\n",
              "      <td>0</td>\n",
              "      <td>0</td>\n",
              "      <td>0</td>\n",
              "      <td>0</td>\n",
              "      <td>0</td>\n",
              "      <td>0</td>\n",
              "      <td>0</td>\n",
              "      <td>0</td>\n",
              "      <td>1</td>\n",
              "    </tr>\n",
              "    <tr>\n",
              "      <th>3</th>\n",
              "      <td>601385667462</td>\n",
              "      <td>X</td>\n",
              "      <td>OTHER</td>\n",
              "      <td>4.750</td>\n",
              "      <td>135000</td>\n",
              "      <td>360</td>\n",
              "      <td>2012-02-01</td>\n",
              "      <td>04/2012</td>\n",
              "      <td>46</td>\n",
              "      <td>2.0</td>\n",
              "      <td>44.0</td>\n",
              "      <td>633.0</td>\n",
              "      <td>B12</td>\n",
              "      <td>0.0</td>\n",
              "      <td>638.0</td>\n",
              "      <td>0.0</td>\n",
              "      <td>0</td>\n",
              "      <td>0</td>\n",
              "      <td>0</td>\n",
              "      <td>0</td>\n",
              "      <td>0</td>\n",
              "      <td>0</td>\n",
              "      <td>0</td>\n",
              "      <td>0</td>\n",
              "      <td>1</td>\n",
              "      <td>1</td>\n",
              "      <td>1</td>\n",
              "      <td>1</td>\n",
              "      <td>1</td>\n",
              "    </tr>\n",
              "    <tr>\n",
              "      <th>4</th>\n",
              "      <td>273870029961</td>\n",
              "      <td>X</td>\n",
              "      <td>OTHER</td>\n",
              "      <td>4.750</td>\n",
              "      <td>124000</td>\n",
              "      <td>360</td>\n",
              "      <td>2012-02-01</td>\n",
              "      <td>04/2012</td>\n",
              "      <td>80</td>\n",
              "      <td>1.0</td>\n",
              "      <td>43.0</td>\n",
              "      <td>681.0</td>\n",
              "      <td>C86</td>\n",
              "      <td>0.0</td>\n",
              "      <td>0.0</td>\n",
              "      <td>0.0</td>\n",
              "      <td>0</td>\n",
              "      <td>1</td>\n",
              "      <td>2</td>\n",
              "      <td>3</td>\n",
              "      <td>4</td>\n",
              "      <td>5</td>\n",
              "      <td>6</td>\n",
              "      <td>7</td>\n",
              "      <td>8</td>\n",
              "      <td>9</td>\n",
              "      <td>10</td>\n",
              "      <td>11</td>\n",
              "      <td>1</td>\n",
              "    </tr>\n",
              "  </tbody>\n",
              "</table>\n",
              "</div>"
            ],
            "text/plain": [
              "        loan_id source       financial_institution  ...  m11  m12  m13\n",
              "0  268055008619      Z  Turner, Baldwin and Rhodes  ...    0    0    1\n",
              "1  672831657627      Y  Swanson, Newton and Miller  ...    1    0    1\n",
              "2  742515242108      Z              Thornton-Davis  ...    0    0    1\n",
              "3  601385667462      X                       OTHER  ...    1    1    1\n",
              "4  273870029961      X                       OTHER  ...   10   11    1\n",
              "\n",
              "[5 rows x 29 columns]"
            ]
          },
          "metadata": {
            "tags": []
          },
          "execution_count": 7
        }
      ]
    },
    {
      "cell_type": "code",
      "metadata": {
        "id": "E8LBiOfyVGzo",
        "colab_type": "code",
        "outputId": "976098a5-590e-4d2a-896e-30f11973857b",
        "colab": {
          "base_uri": "https://localhost:8080/",
          "height": 50
        }
      },
      "source": [
        "# check out the size of the data\n",
        "print(\"Train data shape:\", train_d.shape)\n",
        "print(\"Test data shape:\", test_d.shape)"
      ],
      "execution_count": 0,
      "outputs": [
        {
          "output_type": "stream",
          "text": [
            "Train data shape: (116058, 29)\n",
            "Test data shape: (35866, 28)\n"
          ],
          "name": "stdout"
        }
      ]
    },
    {
      "cell_type": "markdown",
      "metadata": {
        "id": "diGemn4bNbb6",
        "colab_type": "text"
      },
      "source": [
        "Let's  concat  both  test  and train independent variable . "
      ]
    },
    {
      "cell_type": "code",
      "metadata": {
        "id": "EjiC08Om9e2e",
        "colab_type": "code",
        "outputId": "d242fac0-c5c5-4800-807c-1ae003ff85fc",
        "colab": {
          "base_uri": "https://localhost:8080/",
          "height": 153
        }
      },
      "source": [
        "raw=pd.concat([train_d, test_d])"
      ],
      "execution_count": 0,
      "outputs": [
        {
          "output_type": "stream",
          "text": [
            "/usr/local/lib/python3.6/dist-packages/ipykernel_launcher.py:1: FutureWarning: Sorting because non-concatenation axis is not aligned. A future version\n",
            "of pandas will change to not sort by default.\n",
            "\n",
            "To accept the future behavior, pass 'sort=False'.\n",
            "\n",
            "To retain the current behavior and silence the warning, pass 'sort=True'.\n",
            "\n",
            "  \"\"\"Entry point for launching an IPython kernel.\n"
          ],
          "name": "stderr"
        }
      ]
    },
    {
      "cell_type": "code",
      "metadata": {
        "id": "JzVXMkAB9wcE",
        "colab_type": "code",
        "outputId": "7ee014eb-e3e7-4b71-9fef-3e997ce012c0",
        "colab": {
          "base_uri": "https://localhost:8080/",
          "height": 34
        }
      },
      "source": [
        "raw.shape"
      ],
      "execution_count": 0,
      "outputs": [
        {
          "output_type": "execute_result",
          "data": {
            "text/plain": [
              "(151924, 29)"
            ]
          },
          "metadata": {
            "tags": []
          },
          "execution_count": 10
        }
      ]
    },
    {
      "cell_type": "code",
      "metadata": {
        "id": "WXFlMYsM-H7k",
        "colab_type": "code",
        "outputId": "70a80cfa-a317-4210-b061-379c93dd92e7",
        "colab": {
          "base_uri": "https://localhost:8080/",
          "height": 34
        }
      },
      "source": [
        "#Let's check if the data set has any missing values. \n",
        "raw.columns[raw.isnull().any()]"
      ],
      "execution_count": 0,
      "outputs": [
        {
          "output_type": "execute_result",
          "data": {
            "text/plain": [
              "Index(['m13'], dtype='object')"
            ]
          },
          "metadata": {
            "tags": []
          },
          "execution_count": 11
        }
      ]
    },
    {
      "cell_type": "code",
      "metadata": {
        "id": "Gs4P7_YKB1NL",
        "colab_type": "code",
        "outputId": "8d113f01-eb12-48c8-9eb9-9f1f2a51bc7c",
        "colab": {
          "base_uri": "https://localhost:8080/",
          "height": 457
        }
      },
      "source": [
        "#Checking there is any null value or not\n",
        "plt.figure(figsize=(10, 5))\n",
        "sns.heatmap(raw.isnull())"
      ],
      "execution_count": 0,
      "outputs": [
        {
          "output_type": "execute_result",
          "data": {
            "text/plain": [
              "<matplotlib.axes._subplots.AxesSubplot at 0x7ff67d1fe668>"
            ]
          },
          "metadata": {
            "tags": []
          },
          "execution_count": 12
        },
        {
          "output_type": "display_data",
          "data": {
            "image/png": "[encoded data removed]",
            "text/plain": [
              "<Figure size 720x360 with 2 Axes>"
            ]
          },
          "metadata": {
            "tags": []
          }
        }
      ]
    },
    {
      "cell_type": "markdown",
      "metadata": {
        "id": "ZObTm-f2CNld",
        "colab_type": "text"
      },
      "source": [
        "There  no  missing  values . ( No  need to  fill any  missing values)\n",
        "\n",
        "label  m13  with  blank value  which for  test dataset  . that's what  need to  predict ( which is  showing  blank here)"
      ]
    },
    {
      "cell_type": "code",
      "metadata": {
        "id": "fS7YYl7pCaj3",
        "colab_type": "code",
        "outputId": "f277cbac-3da4-4781-b151-041a5397dac6",
        "colab": {
          "base_uri": "https://localhost:8080/",
          "height": 527
        }
      },
      "source": [
        "raw.dtypes"
      ],
      "execution_count": 0,
      "outputs": [
        {
          "output_type": "execute_result",
          "data": {
            "text/plain": [
              "borrower_credit_score       float64\n",
              "co-borrower_credit_score    float64\n",
              "debt_to_income_ratio        float64\n",
              "financial_institution        object\n",
              "first_payment_date           object\n",
              "insurance_percent           float64\n",
              "insurance_type              float64\n",
              "interest_rate               float64\n",
              "loan_id                       int64\n",
              "loan_purpose                 object\n",
              "loan_term                     int64\n",
              "loan_to_value                 int64\n",
              "m1                            int64\n",
              "m10                           int64\n",
              "m11                           int64\n",
              "m12                           int64\n",
              "m13                         float64\n",
              "m2                            int64\n",
              "m3                            int64\n",
              "m4                            int64\n",
              "m5                            int64\n",
              "m6                            int64\n",
              "m7                            int64\n",
              "m8                            int64\n",
              "m9                            int64\n",
              "number_of_borrowers         float64\n",
              "origination_date             object\n",
              "source                       object\n",
              "unpaid_principal_bal          int64\n",
              "dtype: object"
            ]
          },
          "metadata": {
            "tags": []
          },
          "execution_count": 13
        }
      ]
    },
    {
      "cell_type": "markdown",
      "metadata": {
        "id": "ZAlc4LNEC5ok",
        "colab_type": "text"
      },
      "source": [
        "Encoding string to intiger ( Categoriacal object  to  intiger)"
      ]
    },
    {
      "cell_type": "code",
      "metadata": {
        "id": "lp8S0lrv4mdA",
        "colab_type": "code",
        "colab": {}
      },
      "source": [
        "cols = ('source', 'financial_institution', 'origination_date',\n",
        "       'first_payment_date', 'loan_purpose')\n",
        "\n"
      ],
      "execution_count": 0,
      "outputs": []
    },
    {
      "cell_type": "code",
      "metadata": {
        "id": "gqwQSMHQ5BQd",
        "colab_type": "code",
        "colab": {}
      },
      "source": [
        "from sklearn.preprocessing import LabelEncoder\n",
        "for c in cols:\n",
        "    lbl = LabelEncoder() \n",
        "    lbl.fit(list(raw[c].values)) \n",
        "    raw[c] = lbl.transform(list(raw[c].values))"
      ],
      "execution_count": 0,
      "outputs": []
    },
    {
      "cell_type": "code",
      "metadata": {
        "id": "IfNW6bybGMBj",
        "colab_type": "code",
        "outputId": "09def8ba-44c8-4a60-dc16-029ff4b72d79",
        "colab": {
          "base_uri": "https://localhost:8080/",
          "height": 326
        }
      },
      "source": [
        "raw['m13'].value_counts().plot('bar')\n",
        "raw['m13'].value_counts()"
      ],
      "execution_count": 0,
      "outputs": [
        {
          "output_type": "execute_result",
          "data": {
            "text/plain": [
              "0.0    115422\n",
              "1.0       636\n",
              "Name: m13, dtype: int64"
            ]
          },
          "metadata": {
            "tags": []
          },
          "execution_count": 16
        },
        {
          "output_type": "display_data",
          "data": {
            "image/png": "[encoded data removed]",
            "text/plain": [
              "<Figure size 432x288 with 1 Axes>"
            ]
          },
          "metadata": {
            "tags": []
          }
        }
      ]
    },
    {
      "cell_type": "code",
      "metadata": {
        "id": "oY6GCYgMhFyT",
        "colab_type": "code",
        "outputId": "ff6943c8-dd1c-4b91-e16b-1afe3e876c98",
        "colab": {
          "base_uri": "https://localhost:8080/",
          "height": 34
        }
      },
      "source": [
        "# print percentage of questions where target == 1 (Loan delinquency true)\n",
        "(len(raw.loc[raw.m13==1])) / (len(raw.loc[raw.m13 == 0])) * 100"
      ],
      "execution_count": 0,
      "outputs": [
        {
          "output_type": "execute_result",
          "data": {
            "text/plain": [
              "0.5510214690440297"
            ]
          },
          "metadata": {
            "tags": []
          },
          "execution_count": 17
        }
      ]
    },
    {
      "cell_type": "markdown",
      "metadata": {
        "id": "mk2kCrJ8T397",
        "colab_type": "text"
      },
      "source": [
        "Here  1's  are in verty less numbers. i.e  only 0.55 %  1's are there. It is  a imbalanced  data."
      ]
    },
    {
      "cell_type": "code",
      "metadata": {
        "id": "oqKyhibGJl4M",
        "colab_type": "code",
        "colab": {}
      },
      "source": [
        "# Now  dividing  preprocessed raw data  back into  train and  test  data\n",
        "train=raw[0:116058]\n",
        "test=raw[116058:151924]"
      ],
      "execution_count": 0,
      "outputs": []
    },
    {
      "cell_type": "markdown",
      "metadata": {
        "id": "jECcQj-7JpXd",
        "colab_type": "text"
      },
      "source": [
        "Other  than  m1  to  m12  , many other  feature  influences Loan Delinquency   label"
      ]
    },
    {
      "cell_type": "code",
      "metadata": {
        "id": "EOl7dAnsOxls",
        "colab_type": "code",
        "outputId": "0f057af9-57b1-4796-bce9-db718a64c1f1",
        "colab": {
          "base_uri": "https://localhost:8080/",
          "height": 1000
        }
      },
      "source": [
        "#Correlation plot\n",
        "corr = train.corr()\n",
        "plt.subplots(figsize=(20,9))\n",
        "sns.heatmap(corr, annot=True)\n",
        "\n",
        "print(corr)"
      ],
      "execution_count": 0,
      "outputs": [
        {
          "output_type": "stream",
          "text": [
            "                          borrower_credit_score  ...  unpaid_principal_bal\n",
            "borrower_credit_score                  1.000000  ...              0.052061\n",
            "co-borrower_credit_score               0.153952  ...              0.132632\n",
            "debt_to_income_ratio                  -0.184406  ...              0.073415\n",
            "financial_institution                  0.002762  ...             -0.063765\n",
            "first_payment_date                     0.028828  ...              0.024377\n",
            "insurance_percent                     -0.062849  ...              0.010926\n",
            "insurance_type                        -0.004608  ...              0.015985\n",
            "interest_rate                         -0.210468  ...             -0.002854\n",
            "loan_id                                0.001230  ...              0.005385\n",
            "loan_purpose                          -0.132056  ...             -0.129275\n",
            "loan_term                             -0.072021  ...              0.192168\n",
            "loan_to_value                         -0.142574  ...              0.062447\n",
            "m1                                    -0.036522  ...              0.001343\n",
            "m10                                   -0.062256  ...             -0.005866\n",
            "m11                                   -0.061407  ...             -0.006412\n",
            "m12                                   -0.063148  ...             -0.008254\n",
            "m13                                   -0.094215  ...             -0.017120\n",
            "m2                                    -0.049725  ...             -0.004001\n",
            "m3                                    -0.050835  ...             -0.006026\n",
            "m4                                    -0.057269  ...             -0.010344\n",
            "m5                                    -0.066448  ...             -0.011461\n",
            "m6                                    -0.063116  ...             -0.007814\n",
            "m7                                    -0.064656  ...             -0.008912\n",
            "m8                                    -0.063057  ...             -0.009228\n",
            "m9                                    -0.062565  ...             -0.008983\n",
            "number_of_borrowers                    0.120120  ...              0.130565\n",
            "origination_date                       0.026125  ...              0.024928\n",
            "source                                 0.010171  ...              0.124162\n",
            "unpaid_principal_bal                   0.052061  ...              1.000000\n",
            "\n",
            "[29 rows x 29 columns]\n"
          ],
          "name": "stdout"
        },
        {
          "output_type": "display_data",
          "data": {
            "image/png": "[encoded data removed]",
            "text/plain": [
              "<Figure size 1440x648 with 2 Axes>"
            ]
          },
          "metadata": {
            "tags": []
          }
        }
      ]
    },
    {
      "cell_type": "markdown",
      "metadata": {
        "id": "JUgE5HjTRiuQ",
        "colab_type": "text"
      },
      "source": [
        "Data preparation for  prediction"
      ]
    },
    {
      "cell_type": "code",
      "metadata": {
        "id": "rEYYqJzCQul-",
        "colab_type": "code",
        "colab": {}
      },
      "source": [
        "# Separate input features and target\n",
        "y = train.m13\n",
        "X = train.drop('m13', axis=1)\n",
        "\n",
        "# setting up testing and training sets\n",
        "X_train, X_test, y_train, y_test = train_test_split(X, y, test_size=0.25, random_state=27)\n",
        "\n"
      ],
      "execution_count": 0,
      "outputs": []
    },
    {
      "cell_type": "markdown",
      "metadata": {
        "id": "FyUlS3WTiXld",
        "colab_type": "text"
      },
      "source": [
        "Baseline Models"
      ]
    },
    {
      "cell_type": "code",
      "metadata": {
        "id": "JaIR5LMEHxit",
        "colab_type": "code",
        "outputId": "20be8a49-a268-47a1-b0f9-032a22b2e7c3",
        "colab": {
          "base_uri": "https://localhost:8080/",
          "height": 51
        }
      },
      "source": [
        "# DummyClassifier to predict only target 0\n",
        "dummy = DummyClassifier(strategy='most_frequent').fit(X_train, y_train)\n",
        "dummy_pred = dummy.predict(X_test)\n",
        "\n",
        "# checking unique labels\n",
        "print('Unique predicted labels: ', (np.unique(dummy_pred)))\n",
        "\n",
        "# checking accuracy\n",
        "print('Test score: ', accuracy_score(y_test, dummy_pred))"
      ],
      "execution_count": 0,
      "outputs": [
        {
          "output_type": "stream",
          "text": [
            "Unique predicted labels:  [0.]\n",
            "Test score:  0.9941754265035326\n"
          ],
          "name": "stdout"
        }
      ]
    },
    {
      "cell_type": "markdown",
      "metadata": {
        "id": "vaK2DtJqi2su",
        "colab_type": "text"
      },
      "source": [
        "As predicted our accuracy score for classifying all transactions as not fraud is 99.4%!\n",
        "\n",
        "As the Dummy Classifier predicts only Class 0, it is clearly not a good option for our objective of correctly classifying fraudulent transactions.\n",
        "\n",
        "Without  training  DummyClassifier to always predict “not Delinquency” just to show how misleading accuracy ."
      ]
    },
    {
      "cell_type": "markdown",
      "metadata": {
        "id": "Z3dxqQdoIFaY",
        "colab_type": "text"
      },
      "source": [
        "Accuracy might not be our best option for measuring performance.\n",
        "\n",
        "To deal with imbalance data.  Need  to  consider  some other  metrics those can provide better insight include:\n",
        "\n",
        "\n",
        "Confusion Matrix: a table showing correct predictions and types of incorrect predictions.\n",
        "Precision: the number of true positives divided by all positive predictions. Precision is also called Positive Predictive Value. It is a measure of a classifier’s exactness. Low precision indicates a high number of false positives.\n",
        "\n",
        "Recall: the number of true positives divided by the number of positive values in the test data. Recall is also called Sensitivity or the True Positive Rate. It is a measure of a classifier’s completeness. Low recall indicates a high number of false negatives.\n",
        "\n",
        "F1: Score: the weighted average of precision and recall."
      ]
    },
    {
      "cell_type": "markdown",
      "metadata": {
        "id": "rds7gzC3lFJy",
        "colab_type": "text"
      },
      "source": [
        "Logistic Regression\n",
        "\n",
        "\n",
        "Applying other matrics on LR"
      ]
    },
    {
      "cell_type": "code",
      "metadata": {
        "id": "MUS2YUc4IHiJ",
        "colab_type": "code",
        "colab": {}
      },
      "source": [
        "# Modeling the data as is\n",
        "# Train model\n",
        "lr = LogisticRegression(solver='liblinear').fit(X_train, y_train)\n",
        " \n",
        "# Predict on training set\n",
        "lr_pred = lr.predict(X_test)"
      ],
      "execution_count": 0,
      "outputs": []
    },
    {
      "cell_type": "code",
      "metadata": {
        "id": "byW-8LxPMC1c",
        "colab_type": "code",
        "outputId": "08b7a0c3-cd49-479c-df9f-98df70916b5b",
        "colab": {
          "base_uri": "https://localhost:8080/",
          "height": 34
        }
      },
      "source": [
        "# Checking accuracy\n",
        "accuracy_score(y_test, lr_pred)"
      ],
      "execution_count": 0,
      "outputs": [
        {
          "output_type": "execute_result",
          "data": {
            "text/plain": [
              "0.9941754265035326"
            ]
          },
          "metadata": {
            "tags": []
          },
          "execution_count": 23
        }
      ]
    },
    {
      "cell_type": "code",
      "metadata": {
        "id": "BB3v-rigJ0nQ",
        "colab_type": "code",
        "outputId": "0f8d9860-420e-45a1-d527-751db22713c8",
        "colab": {
          "base_uri": "https://localhost:8080/",
          "height": 51
        }
      },
      "source": [
        "# Checking unique values\n",
        "predictions = pd.DataFrame(lr_pred)\n",
        "predictions[0].value_counts()"
      ],
      "execution_count": 0,
      "outputs": [
        {
          "output_type": "execute_result",
          "data": {
            "text/plain": [
              "0.0    29015\n",
              "Name: 0, dtype: int64"
            ]
          },
          "metadata": {
            "tags": []
          },
          "execution_count": 24
        }
      ]
    },
    {
      "cell_type": "markdown",
      "metadata": {
        "id": "0lNEj5w4mLK2",
        "colab_type": "text"
      },
      "source": [
        "Logistic Regression performed similar way as Dummy Classifier! We can see that it predicted No instances of class 1,  But can we do better?"
      ]
    },
    {
      "cell_type": "code",
      "metadata": {
        "id": "9R7O7wpCLpX2",
        "colab_type": "code",
        "outputId": "86e07924-6315-452f-e9ea-5fae31aaeb50",
        "colab": {
          "base_uri": "https://localhost:8080/",
          "height": 88
        }
      },
      "source": [
        "# f1 score\n",
        "f1_score(y_test, lr_pred)"
      ],
      "execution_count": 0,
      "outputs": [
        {
          "output_type": "stream",
          "text": [
            "/usr/local/lib/python3.6/dist-packages/sklearn/metrics/classification.py:1437: UndefinedMetricWarning: F-score is ill-defined and being set to 0.0 due to no predicted samples.\n",
            "  'precision', 'predicted', average, warn_for)\n"
          ],
          "name": "stderr"
        },
        {
          "output_type": "execute_result",
          "data": {
            "text/plain": [
              "0.0"
            ]
          },
          "metadata": {
            "tags": []
          },
          "execution_count": 25
        }
      ]
    },
    {
      "cell_type": "code",
      "metadata": {
        "id": "0bprBRhgRUga",
        "colab_type": "code",
        "outputId": "aceaea83-9ca8-4dd7-be1e-2c979d0758b0",
        "colab": {
          "base_uri": "https://localhost:8080/",
          "height": 111
        }
      },
      "source": [
        "# confusion matrix\n",
        "pd.DataFrame(confusion_matrix(y_test, lr_pred))"
      ],
      "execution_count": 0,
      "outputs": [
        {
          "output_type": "execute_result",
          "data": {
            "text/html": [
              "<div>\n",
              "<style scoped>\n",
              "    .dataframe tbody tr th:only-of-type {\n",
              "        vertical-align: middle;\n",
              "    }\n",
              "\n",
              "    .dataframe tbody tr th {\n",
              "        vertical-align: top;\n",
              "    }\n",
              "\n",
              "    .dataframe thead th {\n",
              "        text-align: right;\n",
              "    }\n",
              "</style>\n",
              "<table border=\"1\" class=\"dataframe\">\n",
              "  <thead>\n",
              "    <tr style=\"text-align: right;\">\n",
              "      <th></th>\n",
              "      <th>0</th>\n",
              "      <th>1</th>\n",
              "    </tr>\n",
              "  </thead>\n",
              "  <tbody>\n",
              "    <tr>\n",
              "      <th>0</th>\n",
              "      <td>28846</td>\n",
              "      <td>0</td>\n",
              "    </tr>\n",
              "    <tr>\n",
              "      <th>1</th>\n",
              "      <td>169</td>\n",
              "      <td>0</td>\n",
              "    </tr>\n",
              "  </tbody>\n",
              "</table>\n",
              "</div>"
            ],
            "text/plain": [
              "       0  1\n",
              "0  28846  0\n",
              "1    169  0"
            ]
          },
          "metadata": {
            "tags": []
          },
          "execution_count": 26
        }
      ]
    },
    {
      "cell_type": "code",
      "metadata": {
        "id": "xqNunJU8UVqA",
        "colab_type": "code",
        "outputId": "3f1f451a-ca25-4e26-ef2e-5a596068a33e",
        "colab": {
          "base_uri": "https://localhost:8080/",
          "height": 34
        }
      },
      "source": [
        "recall_score(y_test, lr_pred)"
      ],
      "execution_count": 0,
      "outputs": [
        {
          "output_type": "execute_result",
          "data": {
            "text/plain": [
              "0.0"
            ]
          },
          "metadata": {
            "tags": []
          },
          "execution_count": 27
        }
      ]
    },
    {
      "cell_type": "markdown",
      "metadata": {
        "id": "PxHtpKbNncRz",
        "colab_type": "text"
      },
      "source": [
        "Here score  is  not   impressive at  all!\n",
        "We have a very high accuracy score of 0.994 but a F1 score of only 0.0. And from the confusion matrix, we can see we are misclassifying several observations leading to a recall score dramatically 0.0.\n",
        "\n",
        "( Need  to  check for  better algorithm)"
      ]
    },
    {
      "cell_type": "markdown",
      "metadata": {
        "id": "cwBiFRDkoACq",
        "colab_type": "text"
      },
      "source": [
        "RandomForest"
      ]
    },
    {
      "cell_type": "code",
      "metadata": {
        "id": "PNrfZGPgYD3L",
        "colab_type": "code",
        "colab": {}
      },
      "source": [
        "from sklearn.ensemble import RandomForestClassifier"
      ],
      "execution_count": 0,
      "outputs": []
    },
    {
      "cell_type": "code",
      "metadata": {
        "id": "3dU6MuZxoT1R",
        "colab_type": "code",
        "outputId": "cfab37f9-d365-478d-ac5f-dafd9e0549dd",
        "colab": {
          "base_uri": "https://localhost:8080/",
          "height": 34
        }
      },
      "source": [
        "# train model\n",
        "rfc = RandomForestClassifier(n_estimators=10).fit(X_train, y_train)\n",
        "\n",
        "# predict on test set\n",
        "rfc_pred = rfc.predict(X_test)\n",
        "\n",
        "accuracy_score(y_test, rfc_pred)"
      ],
      "execution_count": 0,
      "outputs": [
        {
          "output_type": "execute_result",
          "data": {
            "text/plain": [
              "0.995416164053076"
            ]
          },
          "metadata": {
            "tags": []
          },
          "execution_count": 29
        }
      ]
    },
    {
      "cell_type": "code",
      "metadata": {
        "id": "ll9prgsPoUNt",
        "colab_type": "code",
        "outputId": "28cb48dc-a42f-4d4b-d1ba-42db1faca8d5",
        "colab": {
          "base_uri": "https://localhost:8080/",
          "height": 34
        }
      },
      "source": [
        "# f1 score\n",
        "f1_score(y_test, rfc_pred)"
      ],
      "execution_count": 0,
      "outputs": [
        {
          "output_type": "execute_result",
          "data": {
            "text/plain": [
              "0.44351464435146437"
            ]
          },
          "metadata": {
            "tags": []
          },
          "execution_count": 30
        }
      ]
    },
    {
      "cell_type": "code",
      "metadata": {
        "id": "cnGGDw-woUd8",
        "colab_type": "code",
        "outputId": "a874150b-d460-418b-ba1d-05cbf8ebcec9",
        "colab": {
          "base_uri": "https://localhost:8080/",
          "height": 111
        }
      },
      "source": [
        "# confusion matrix\n",
        "pd.DataFrame(confusion_matrix(y_test, rfc_pred))"
      ],
      "execution_count": 0,
      "outputs": [
        {
          "output_type": "execute_result",
          "data": {
            "text/html": [
              "<div>\n",
              "<style scoped>\n",
              "    .dataframe tbody tr th:only-of-type {\n",
              "        vertical-align: middle;\n",
              "    }\n",
              "\n",
              "    .dataframe tbody tr th {\n",
              "        vertical-align: top;\n",
              "    }\n",
              "\n",
              "    .dataframe thead th {\n",
              "        text-align: right;\n",
              "    }\n",
              "</style>\n",
              "<table border=\"1\" class=\"dataframe\">\n",
              "  <thead>\n",
              "    <tr style=\"text-align: right;\">\n",
              "      <th></th>\n",
              "      <th>0</th>\n",
              "      <th>1</th>\n",
              "    </tr>\n",
              "  </thead>\n",
              "  <tbody>\n",
              "    <tr>\n",
              "      <th>0</th>\n",
              "      <td>28829</td>\n",
              "      <td>17</td>\n",
              "    </tr>\n",
              "    <tr>\n",
              "      <th>1</th>\n",
              "      <td>116</td>\n",
              "      <td>53</td>\n",
              "    </tr>\n",
              "  </tbody>\n",
              "</table>\n",
              "</div>"
            ],
            "text/plain": [
              "       0   1\n",
              "0  28829  17\n",
              "1    116  53"
            ]
          },
          "metadata": {
            "tags": []
          },
          "execution_count": 31
        }
      ]
    },
    {
      "cell_type": "code",
      "metadata": {
        "id": "mq6JpZqsoVlt",
        "colab_type": "code",
        "outputId": "130de258-2c21-439f-950b-3fd71e16e487",
        "colab": {
          "base_uri": "https://localhost:8080/",
          "height": 34
        }
      },
      "source": [
        "# recall score\n",
        "recall_score(y_test, rfc_pred)"
      ],
      "execution_count": 0,
      "outputs": [
        {
          "output_type": "execute_result",
          "data": {
            "text/plain": [
              "0.3136094674556213"
            ]
          },
          "metadata": {
            "tags": []
          },
          "execution_count": 32
        }
      ]
    },
    {
      "cell_type": "markdown",
      "metadata": {
        "id": "b4KmlKrWo71T",
        "colab_type": "text"
      },
      "source": [
        "Here in RFC accuracy score is slightly increased, both F1 and recall have increased as compared to logistic regression! It appears that for this specific problem, random forest may be a better choice of model."
      ]
    },
    {
      "cell_type": "markdown",
      "metadata": {
        "id": "nTX9i4P8qA3e",
        "colab_type": "text"
      },
      "source": [
        "**Resampling Techniques**"
      ]
    },
    {
      "cell_type": "markdown",
      "metadata": {
        "id": "xVpxDkcYqIe6",
        "colab_type": "text"
      },
      "source": [
        "Oversampling Minority Class¶\n",
        "Oversampling can be defined as adding more copies of the minority class. Oversampling can be a good choice when you don't have a ton of data to work with. A con to consider when undersampling is that it can cause overfitting and poor generalization to your test set.\n",
        "\n",
        "We will use the resampling module from Scikit-Learn to randomly replicate samples from the minority class.\n",
        "\n",
        "Important Note\n",
        "Always split into test and train sets BEFORE trying any resampling techniques! Oversampling before splitting the data can allow the exact same observations to be present in both the test and train sets! This can allow our model to simply memorize specific data points and cause overfitting."
      ]
    },
    {
      "cell_type": "markdown",
      "metadata": {
        "id": "iPRsFWC-qsuB",
        "colab_type": "text"
      },
      "source": [
        "Oversampling Minority Class¶"
      ]
    },
    {
      "cell_type": "code",
      "metadata": {
        "id": "DkSXFnIkpbr5",
        "colab_type": "code",
        "colab": {}
      },
      "source": [
        "from sklearn.utils import resample"
      ],
      "execution_count": 0,
      "outputs": []
    },
    {
      "cell_type": "code",
      "metadata": {
        "id": "R5ZklRv1q21a",
        "colab_type": "code",
        "colab": {}
      },
      "source": [
        "# Separate input features and target\n",
        "y = train.m13\n",
        "X = train.drop('m13', axis=1)\n",
        "\n",
        "# setting up testing and training sets\n",
        "X_train, X_test, y_train, y_test = train_test_split(X, y, test_size=0.25, random_state=27)"
      ],
      "execution_count": 0,
      "outputs": []
    },
    {
      "cell_type": "code",
      "metadata": {
        "id": "9KPlslbFq3Nc",
        "colab_type": "code",
        "outputId": "38aa4a0a-9804-4c0a-c6f8-56c47b8744c3",
        "colab": {
          "base_uri": "https://localhost:8080/",
          "height": 241
        }
      },
      "source": [
        "# concatenate our training data back together\n",
        "X = pd.concat([X_train, y_train], axis=1)\n",
        "X.head()"
      ],
      "execution_count": 0,
      "outputs": [
        {
          "output_type": "execute_result",
          "data": {
            "text/html": [
              "<div>\n",
              "<style scoped>\n",
              "    .dataframe tbody tr th:only-of-type {\n",
              "        vertical-align: middle;\n",
              "    }\n",
              "\n",
              "    .dataframe tbody tr th {\n",
              "        vertical-align: top;\n",
              "    }\n",
              "\n",
              "    .dataframe thead th {\n",
              "        text-align: right;\n",
              "    }\n",
              "</style>\n",
              "<table border=\"1\" class=\"dataframe\">\n",
              "  <thead>\n",
              "    <tr style=\"text-align: right;\">\n",
              "      <th></th>\n",
              "      <th>borrower_credit_score</th>\n",
              "      <th>co-borrower_credit_score</th>\n",
              "      <th>debt_to_income_ratio</th>\n",
              "      <th>financial_institution</th>\n",
              "      <th>first_payment_date</th>\n",
              "      <th>insurance_percent</th>\n",
              "      <th>insurance_type</th>\n",
              "      <th>interest_rate</th>\n",
              "      <th>loan_id</th>\n",
              "      <th>loan_purpose</th>\n",
              "      <th>loan_term</th>\n",
              "      <th>loan_to_value</th>\n",
              "      <th>m1</th>\n",
              "      <th>m10</th>\n",
              "      <th>m11</th>\n",
              "      <th>m12</th>\n",
              "      <th>m2</th>\n",
              "      <th>m3</th>\n",
              "      <th>m4</th>\n",
              "      <th>m5</th>\n",
              "      <th>m6</th>\n",
              "      <th>m7</th>\n",
              "      <th>m8</th>\n",
              "      <th>m9</th>\n",
              "      <th>number_of_borrowers</th>\n",
              "      <th>origination_date</th>\n",
              "      <th>source</th>\n",
              "      <th>unpaid_principal_bal</th>\n",
              "      <th>m13</th>\n",
              "    </tr>\n",
              "  </thead>\n",
              "  <tbody>\n",
              "    <tr>\n",
              "      <th>65425</th>\n",
              "      <td>799.0</td>\n",
              "      <td>0.0</td>\n",
              "      <td>25.0</td>\n",
              "      <td>8</td>\n",
              "      <td>2</td>\n",
              "      <td>0.0</td>\n",
              "      <td>0.0</td>\n",
              "      <td>3.250</td>\n",
              "      <td>219082534298</td>\n",
              "      <td>1</td>\n",
              "      <td>180</td>\n",
              "      <td>77</td>\n",
              "      <td>0</td>\n",
              "      <td>0</td>\n",
              "      <td>0</td>\n",
              "      <td>0</td>\n",
              "      <td>0</td>\n",
              "      <td>0</td>\n",
              "      <td>0</td>\n",
              "      <td>0</td>\n",
              "      <td>0</td>\n",
              "      <td>0</td>\n",
              "      <td>0</td>\n",
              "      <td>0</td>\n",
              "      <td>1.0</td>\n",
              "      <td>4</td>\n",
              "      <td>0</td>\n",
              "      <td>96000</td>\n",
              "      <td>0.0</td>\n",
              "    </tr>\n",
              "    <tr>\n",
              "      <th>43591</th>\n",
              "      <td>732.0</td>\n",
              "      <td>701.0</td>\n",
              "      <td>39.0</td>\n",
              "      <td>1</td>\n",
              "      <td>1</td>\n",
              "      <td>0.0</td>\n",
              "      <td>0.0</td>\n",
              "      <td>4.125</td>\n",
              "      <td>728570587585</td>\n",
              "      <td>2</td>\n",
              "      <td>360</td>\n",
              "      <td>80</td>\n",
              "      <td>0</td>\n",
              "      <td>0</td>\n",
              "      <td>0</td>\n",
              "      <td>0</td>\n",
              "      <td>0</td>\n",
              "      <td>0</td>\n",
              "      <td>0</td>\n",
              "      <td>0</td>\n",
              "      <td>0</td>\n",
              "      <td>0</td>\n",
              "      <td>0</td>\n",
              "      <td>0</td>\n",
              "      <td>2.0</td>\n",
              "      <td>3</td>\n",
              "      <td>1</td>\n",
              "      <td>320000</td>\n",
              "      <td>0.0</td>\n",
              "    </tr>\n",
              "    <tr>\n",
              "      <th>96308</th>\n",
              "      <td>743.0</td>\n",
              "      <td>768.0</td>\n",
              "      <td>14.0</td>\n",
              "      <td>8</td>\n",
              "      <td>2</td>\n",
              "      <td>25.0</td>\n",
              "      <td>0.0</td>\n",
              "      <td>3.875</td>\n",
              "      <td>602556662077</td>\n",
              "      <td>0</td>\n",
              "      <td>360</td>\n",
              "      <td>90</td>\n",
              "      <td>0</td>\n",
              "      <td>0</td>\n",
              "      <td>0</td>\n",
              "      <td>0</td>\n",
              "      <td>0</td>\n",
              "      <td>0</td>\n",
              "      <td>0</td>\n",
              "      <td>0</td>\n",
              "      <td>0</td>\n",
              "      <td>0</td>\n",
              "      <td>0</td>\n",
              "      <td>0</td>\n",
              "      <td>2.0</td>\n",
              "      <td>4</td>\n",
              "      <td>0</td>\n",
              "      <td>166000</td>\n",
              "      <td>0.0</td>\n",
              "    </tr>\n",
              "    <tr>\n",
              "      <th>67357</th>\n",
              "      <td>801.0</td>\n",
              "      <td>792.0</td>\n",
              "      <td>36.0</td>\n",
              "      <td>15</td>\n",
              "      <td>1</td>\n",
              "      <td>0.0</td>\n",
              "      <td>0.0</td>\n",
              "      <td>3.250</td>\n",
              "      <td>230565301697</td>\n",
              "      <td>1</td>\n",
              "      <td>180</td>\n",
              "      <td>67</td>\n",
              "      <td>0</td>\n",
              "      <td>0</td>\n",
              "      <td>0</td>\n",
              "      <td>0</td>\n",
              "      <td>0</td>\n",
              "      <td>0</td>\n",
              "      <td>0</td>\n",
              "      <td>0</td>\n",
              "      <td>0</td>\n",
              "      <td>0</td>\n",
              "      <td>0</td>\n",
              "      <td>0</td>\n",
              "      <td>2.0</td>\n",
              "      <td>3</td>\n",
              "      <td>1</td>\n",
              "      <td>200000</td>\n",
              "      <td>0.0</td>\n",
              "    </tr>\n",
              "    <tr>\n",
              "      <th>44053</th>\n",
              "      <td>780.0</td>\n",
              "      <td>790.0</td>\n",
              "      <td>39.0</td>\n",
              "      <td>8</td>\n",
              "      <td>1</td>\n",
              "      <td>12.0</td>\n",
              "      <td>0.0</td>\n",
              "      <td>4.125</td>\n",
              "      <td>700132161906</td>\n",
              "      <td>0</td>\n",
              "      <td>360</td>\n",
              "      <td>85</td>\n",
              "      <td>0</td>\n",
              "      <td>0</td>\n",
              "      <td>0</td>\n",
              "      <td>0</td>\n",
              "      <td>0</td>\n",
              "      <td>0</td>\n",
              "      <td>0</td>\n",
              "      <td>0</td>\n",
              "      <td>0</td>\n",
              "      <td>0</td>\n",
              "      <td>0</td>\n",
              "      <td>0</td>\n",
              "      <td>2.0</td>\n",
              "      <td>3</td>\n",
              "      <td>0</td>\n",
              "      <td>382000</td>\n",
              "      <td>0.0</td>\n",
              "    </tr>\n",
              "  </tbody>\n",
              "</table>\n",
              "</div>"
            ],
            "text/plain": [
              "       borrower_credit_score  ...  m13\n",
              "65425                  799.0  ...  0.0\n",
              "43591                  732.0  ...  0.0\n",
              "96308                  743.0  ...  0.0\n",
              "67357                  801.0  ...  0.0\n",
              "44053                  780.0  ...  0.0\n",
              "\n",
              "[5 rows x 29 columns]"
            ]
          },
          "metadata": {
            "tags": []
          },
          "execution_count": 35
        }
      ]
    },
    {
      "cell_type": "code",
      "metadata": {
        "id": "_LvrLtogq3gw",
        "colab_type": "code",
        "outputId": "92baaf87-8d0d-44a0-f7ba-0eacee3dd4bf",
        "colab": {
          "base_uri": "https://localhost:8080/",
          "height": 68
        }
      },
      "source": [
        "# separate minority and majority classes\n",
        "not_delin = X[X.m13==0]\n",
        "delin = X[X.m13==1]\n",
        "\n",
        "# upsample minority\n",
        "delin_upsampled = resample(delin,\n",
        "                          replace=True, # sample with replacement\n",
        "                          n_samples=len(not_delin), # match number in majority class\n",
        "                          random_state=27) # reproducible results\n",
        "\n",
        "# combine majority and upsampled minority\n",
        "upsampled = pd.concat([not_delin, delin_upsampled])\n",
        "\n",
        "# check new class counts\n",
        "upsampled.m13.value_counts()"
      ],
      "execution_count": 0,
      "outputs": [
        {
          "output_type": "execute_result",
          "data": {
            "text/plain": [
              "1.0    86576\n",
              "0.0    86576\n",
              "Name: m13, dtype: int64"
            ]
          },
          "metadata": {
            "tags": []
          },
          "execution_count": 36
        }
      ]
    },
    {
      "cell_type": "markdown",
      "metadata": {
        "id": "VZs6Rhmestif",
        "colab_type": "text"
      },
      "source": [
        "After resampling we have an equal ratio of data points for each class"
      ]
    },
    {
      "cell_type": "markdown",
      "metadata": {
        "id": "ft34a91ssxEH",
        "colab_type": "text"
      },
      "source": [
        "Now applying logistic regression again with the balanced training data.\n",
        "Let's  check what  happens!"
      ]
    },
    {
      "cell_type": "markdown",
      "metadata": {
        "id": "Vahkhqw2tByY",
        "colab_type": "text"
      },
      "source": [
        "LR on balanced  data ( from  above upsampled data)"
      ]
    },
    {
      "cell_type": "code",
      "metadata": {
        "id": "G7V2G4UTq31b",
        "colab_type": "code",
        "colab": {}
      },
      "source": [
        "# trying logistic regression again with the balanced dataset\n",
        "y_train = upsampled.m13\n",
        "X_train = upsampled.drop('m13', axis=1)\n",
        "\n",
        "upsampled = LogisticRegression(solver='liblinear').fit(X_train, y_train)\n",
        "\n",
        "upsampled_pred = upsampled.predict(X_test)"
      ],
      "execution_count": 0,
      "outputs": []
    },
    {
      "cell_type": "code",
      "metadata": {
        "id": "6qijGmkWtqBK",
        "colab_type": "code",
        "outputId": "ed87a179-3c57-4834-e9a3-5ebe5f8714c8",
        "colab": {
          "base_uri": "https://localhost:8080/",
          "height": 34
        }
      },
      "source": [
        "# Checking accuracy\n",
        "accuracy_score(y_test, upsampled_pred)"
      ],
      "execution_count": 0,
      "outputs": [
        {
          "output_type": "execute_result",
          "data": {
            "text/plain": [
              "0.9941754265035326"
            ]
          },
          "metadata": {
            "tags": []
          },
          "execution_count": 38
        }
      ]
    },
    {
      "cell_type": "code",
      "metadata": {
        "id": "FfippXLGtqSj",
        "colab_type": "code",
        "outputId": "a4bd5e92-c477-46c7-8609-54280b703308",
        "colab": {
          "base_uri": "https://localhost:8080/",
          "height": 88
        }
      },
      "source": [
        "# f1 score\n",
        "f1_score(y_test, upsampled_pred)"
      ],
      "execution_count": 0,
      "outputs": [
        {
          "output_type": "stream",
          "text": [
            "/usr/local/lib/python3.6/dist-packages/sklearn/metrics/classification.py:1437: UndefinedMetricWarning: F-score is ill-defined and being set to 0.0 due to no predicted samples.\n",
            "  'precision', 'predicted', average, warn_for)\n"
          ],
          "name": "stderr"
        },
        {
          "output_type": "execute_result",
          "data": {
            "text/plain": [
              "0.0"
            ]
          },
          "metadata": {
            "tags": []
          },
          "execution_count": 39
        }
      ]
    },
    {
      "cell_type": "code",
      "metadata": {
        "id": "xhG8X4M3uMAh",
        "colab_type": "code",
        "outputId": "a9bb88de-fbc0-4540-8a92-405fa557c474",
        "colab": {
          "base_uri": "https://localhost:8080/",
          "height": 111
        }
      },
      "source": [
        "# confusion matrix\n",
        "pd.DataFrame(confusion_matrix(y_test, upsampled_pred))"
      ],
      "execution_count": 0,
      "outputs": [
        {
          "output_type": "execute_result",
          "data": {
            "text/html": [
              "<div>\n",
              "<style scoped>\n",
              "    .dataframe tbody tr th:only-of-type {\n",
              "        vertical-align: middle;\n",
              "    }\n",
              "\n",
              "    .dataframe tbody tr th {\n",
              "        vertical-align: top;\n",
              "    }\n",
              "\n",
              "    .dataframe thead th {\n",
              "        text-align: right;\n",
              "    }\n",
              "</style>\n",
              "<table border=\"1\" class=\"dataframe\">\n",
              "  <thead>\n",
              "    <tr style=\"text-align: right;\">\n",
              "      <th></th>\n",
              "      <th>0</th>\n",
              "      <th>1</th>\n",
              "    </tr>\n",
              "  </thead>\n",
              "  <tbody>\n",
              "    <tr>\n",
              "      <th>0</th>\n",
              "      <td>28846</td>\n",
              "      <td>0</td>\n",
              "    </tr>\n",
              "    <tr>\n",
              "      <th>1</th>\n",
              "      <td>169</td>\n",
              "      <td>0</td>\n",
              "    </tr>\n",
              "  </tbody>\n",
              "</table>\n",
              "</div>"
            ],
            "text/plain": [
              "       0  1\n",
              "0  28846  0\n",
              "1    169  0"
            ]
          },
          "metadata": {
            "tags": []
          },
          "execution_count": 40
        }
      ]
    },
    {
      "cell_type": "code",
      "metadata": {
        "id": "hqkc-5fVuVJX",
        "colab_type": "code",
        "outputId": "003e82c1-7b77-425a-bb5e-1005f1848fbd",
        "colab": {
          "base_uri": "https://localhost:8080/",
          "height": 34
        }
      },
      "source": [
        "recall_score(y_test, upsampled_pred)"
      ],
      "execution_count": 0,
      "outputs": [
        {
          "output_type": "execute_result",
          "data": {
            "text/plain": [
              "0.0"
            ]
          },
          "metadata": {
            "tags": []
          },
          "execution_count": 41
        }
      ]
    },
    {
      "cell_type": "markdown",
      "metadata": {
        "id": "FsqXIe0DuuTY",
        "colab_type": "text"
      },
      "source": [
        "Logistic Regression on balanced Oversampling  did not do any  change . So  no good choice !"
      ]
    },
    {
      "cell_type": "markdown",
      "metadata": {
        "id": "1B_6dFj8vJS_",
        "colab_type": "text"
      },
      "source": [
        "Undersampling Majority Class"
      ]
    },
    {
      "cell_type": "markdown",
      "metadata": {
        "id": "H5FmV3LLvcCr",
        "colab_type": "text"
      },
      "source": [
        "Undersampling Majority Class¶\n",
        "Undersampling can be defined as removing some observations of the majority class. Undersampling can be a good choice when you have a ton of data -think millions of rows. But a drawback to undersampling is that we are removing information that may be valuable.\n",
        "\n",
        "We will again use the resampling module from Scikit-Learn to randomly remove samples from the majority class."
      ]
    },
    {
      "cell_type": "code",
      "metadata": {
        "id": "Sf6EIxBCvH-R",
        "colab_type": "code",
        "outputId": "b7bc3210-7f96-4d59-dc4a-4ddbbb2f5d1e",
        "colab": {
          "base_uri": "https://localhost:8080/",
          "height": 68
        }
      },
      "source": [
        "# still using our separated classes fraud and not_delin from above\n",
        "\n",
        "# downsample majority\n",
        "not_delin_downsampled = resample(not_delin,\n",
        "                                replace = False, # sample without replacement\n",
        "                                n_samples = len(delin), # match minority n\n",
        "                                random_state = 27) # reproducible results\n",
        "\n",
        "# combine minority and downsampled majority\n",
        "downsampled = pd.concat([not_delin_downsampled, delin])\n",
        "\n",
        "# checking counts\n",
        "downsampled.m13.value_counts()"
      ],
      "execution_count": 0,
      "outputs": [
        {
          "output_type": "execute_result",
          "data": {
            "text/plain": [
              "1.0    467\n",
              "0.0    467\n",
              "Name: m13, dtype: int64"
            ]
          },
          "metadata": {
            "tags": []
          },
          "execution_count": 42
        }
      ]
    },
    {
      "cell_type": "markdown",
      "metadata": {
        "id": "5q8r7bUKwR2n",
        "colab_type": "text"
      },
      "source": [
        "Again, we have an equal ratio of fraud to not fraud data points, but in this case a much smaller quantity of data to train the model on. Let’s again apply our logistic regression."
      ]
    },
    {
      "cell_type": "code",
      "metadata": {
        "id": "J4K6VgzawTby",
        "colab_type": "code",
        "colab": {}
      },
      "source": [
        "# trying logistic regression again with the undersampled dataset\n",
        "\n",
        "y_train = downsampled.m13\n",
        "X_train = downsampled.drop('m13', axis=1)\n",
        "\n",
        "undersampled = LogisticRegression(solver='liblinear').fit(X_train, y_train)\n",
        "\n",
        "undersampled_pred = undersampled.predict(X_test)"
      ],
      "execution_count": 0,
      "outputs": []
    },
    {
      "cell_type": "code",
      "metadata": {
        "id": "wh_HSSJbwT3x",
        "colab_type": "code",
        "outputId": "ee94ce71-b80e-4d1f-e05b-55b897bcaa94",
        "colab": {
          "base_uri": "https://localhost:8080/",
          "height": 34
        }
      },
      "source": [
        "# Checking accuracy\n",
        "accuracy_score(y_test, undersampled_pred)"
      ],
      "execution_count": 0,
      "outputs": [
        {
          "output_type": "execute_result",
          "data": {
            "text/plain": [
              "0.9941754265035326"
            ]
          },
          "metadata": {
            "tags": []
          },
          "execution_count": 44
        }
      ]
    },
    {
      "cell_type": "code",
      "metadata": {
        "id": "A2NkRIeywsPN",
        "colab_type": "code",
        "outputId": "e100b482-12df-4789-e7ce-64de5a4b06d2",
        "colab": {
          "base_uri": "https://localhost:8080/",
          "height": 88
        }
      },
      "source": [
        "# f1 score\n",
        "f1_score(y_test, undersampled_pred)"
      ],
      "execution_count": 0,
      "outputs": [
        {
          "output_type": "stream",
          "text": [
            "/usr/local/lib/python3.6/dist-packages/sklearn/metrics/classification.py:1437: UndefinedMetricWarning: F-score is ill-defined and being set to 0.0 due to no predicted samples.\n",
            "  'precision', 'predicted', average, warn_for)\n"
          ],
          "name": "stderr"
        },
        {
          "output_type": "execute_result",
          "data": {
            "text/plain": [
              "0.0"
            ]
          },
          "metadata": {
            "tags": []
          },
          "execution_count": 45
        }
      ]
    },
    {
      "cell_type": "code",
      "metadata": {
        "id": "KUONY4Qtwsiu",
        "colab_type": "code",
        "outputId": "b728a512-5cc6-4384-badb-dad24770c31b",
        "colab": {
          "base_uri": "https://localhost:8080/",
          "height": 111
        }
      },
      "source": [
        "# confusion matrix\n",
        "pd.DataFrame(confusion_matrix(y_test, undersampled_pred))"
      ],
      "execution_count": 0,
      "outputs": [
        {
          "output_type": "execute_result",
          "data": {
            "text/html": [
              "<div>\n",
              "<style scoped>\n",
              "    .dataframe tbody tr th:only-of-type {\n",
              "        vertical-align: middle;\n",
              "    }\n",
              "\n",
              "    .dataframe tbody tr th {\n",
              "        vertical-align: top;\n",
              "    }\n",
              "\n",
              "    .dataframe thead th {\n",
              "        text-align: right;\n",
              "    }\n",
              "</style>\n",
              "<table border=\"1\" class=\"dataframe\">\n",
              "  <thead>\n",
              "    <tr style=\"text-align: right;\">\n",
              "      <th></th>\n",
              "      <th>0</th>\n",
              "      <th>1</th>\n",
              "    </tr>\n",
              "  </thead>\n",
              "  <tbody>\n",
              "    <tr>\n",
              "      <th>0</th>\n",
              "      <td>28846</td>\n",
              "      <td>0</td>\n",
              "    </tr>\n",
              "    <tr>\n",
              "      <th>1</th>\n",
              "      <td>169</td>\n",
              "      <td>0</td>\n",
              "    </tr>\n",
              "  </tbody>\n",
              "</table>\n",
              "</div>"
            ],
            "text/plain": [
              "       0  1\n",
              "0  28846  0\n",
              "1    169  0"
            ]
          },
          "metadata": {
            "tags": []
          },
          "execution_count": 46
        }
      ]
    },
    {
      "cell_type": "code",
      "metadata": {
        "id": "d7RqFeVfxJN3",
        "colab_type": "code",
        "outputId": "df84cdf2-90e2-4bb3-ac9b-b3b92c0a7c59",
        "colab": {
          "base_uri": "https://localhost:8080/",
          "height": 34
        }
      },
      "source": [
        "recall_score(y_test, undersampled_pred)"
      ],
      "execution_count": 0,
      "outputs": [
        {
          "output_type": "execute_result",
          "data": {
            "text/plain": [
              "0.0"
            ]
          },
          "metadata": {
            "tags": []
          },
          "execution_count": 47
        }
      ]
    },
    {
      "cell_type": "markdown",
      "metadata": {
        "id": "SNxklFSaxA8M",
        "colab_type": "text"
      },
      "source": [
        "There no  use of undersampled  LR   score for  this  data  set \n",
        "\n",
        "Hence  moving  to   Generate Synthetic Samples¶\n",
        "SMOTE "
      ]
    },
    {
      "cell_type": "markdown",
      "metadata": {
        "id": "apml9OVLxydk",
        "colab_type": "text"
      },
      "source": [
        " Generate Synthetic Samples¶\n",
        "    SMOTE "
      ]
    },
    {
      "cell_type": "markdown",
      "metadata": {
        "id": "n4l2-a5Tx5w5",
        "colab_type": "text"
      },
      "source": [
        "SMOTE or Synthetic Minority Oversampling Technique is a popular algorithm to creates sythetic observations of the minority class.\n",
        "\n",
        "A technique similar to upsampling is to create synthetic samples. Here we will use imblearn’s SMOTE or Synthetic Minority Oversampling Technique. SMOTE uses a nearest neighbors algorithm to generate new and synthetic data we can use for training our model.\n",
        "Again, it’s important to generate the new samples only in the training set to ensure our model generalizes well to unseen data.\n"
      ]
    },
    {
      "cell_type": "code",
      "metadata": {
        "id": "zRBvHQTcxCSr",
        "colab_type": "code",
        "outputId": "4b15086f-4d27-4516-81e1-74275a40c05b",
        "colab": {
          "base_uri": "https://localhost:8080/",
          "height": 71
        }
      },
      "source": [
        "from imblearn.over_sampling import SMOTE\n",
        "\n",
        "# Separate input features and target\n",
        "y = train.m13\n",
        "X = train.drop('m13', axis=1)\n",
        "\n",
        "# setting up testing and training sets\n",
        "X_train, X_test, y_train, y_test = train_test_split(X, y, test_size=0.25, random_state=27)\n",
        "\n",
        "sm = SMOTE(random_state=27, ratio=1.0)\n",
        "X_train, y_train = sm.fit_sample(X_train, y_train)"
      ],
      "execution_count": 0,
      "outputs": [
        {
          "output_type": "stream",
          "text": [
            "/usr/local/lib/python3.6/dist-packages/sklearn/externals/six.py:31: DeprecationWarning: The module is deprecated in version 0.21 and will be removed in version 0.23 since we've dropped support for Python 2.7. Please rely on the official version of six (https://pypi.org/project/six/).\n",
            "  \"(https://pypi.org/project/six/).\", DeprecationWarning)\n"
          ],
          "name": "stderr"
        }
      ]
    },
    {
      "cell_type": "markdown",
      "metadata": {
        "id": "mV0ojGW9yuVE",
        "colab_type": "text"
      },
      "source": [
        "After generating our synthetic data points, let’s see how our logistic regression performs."
      ]
    },
    {
      "cell_type": "code",
      "metadata": {
        "id": "rHtY8NwpywJE",
        "colab_type": "code",
        "outputId": "184b2d6d-388b-4822-dfb6-2c699dd0629f",
        "colab": {
          "base_uri": "https://localhost:8080/",
          "height": 34
        }
      },
      "source": [
        "smote = LogisticRegression(solver='liblinear').fit(X_train, y_train)\n",
        "\n",
        "smote_pred = smote.predict(X_test)\n",
        "\n",
        "# Checking accuracy\n",
        "accuracy_score(y_test, smote_pred)"
      ],
      "execution_count": 0,
      "outputs": [
        {
          "output_type": "execute_result",
          "data": {
            "text/plain": [
              "0.9941754265035326"
            ]
          },
          "metadata": {
            "tags": []
          },
          "execution_count": 49
        }
      ]
    },
    {
      "cell_type": "code",
      "metadata": {
        "id": "2RrD-9fpy3L4",
        "colab_type": "code",
        "outputId": "0014de0a-d783-4fe9-f133-440dbd270c15",
        "colab": {
          "base_uri": "https://localhost:8080/",
          "height": 88
        }
      },
      "source": [
        "# f1 score\n",
        "f1_score(y_test, smote_pred)"
      ],
      "execution_count": 0,
      "outputs": [
        {
          "output_type": "stream",
          "text": [
            "/usr/local/lib/python3.6/dist-packages/sklearn/metrics/classification.py:1437: UndefinedMetricWarning: F-score is ill-defined and being set to 0.0 due to no predicted samples.\n",
            "  'precision', 'predicted', average, warn_for)\n"
          ],
          "name": "stderr"
        },
        {
          "output_type": "execute_result",
          "data": {
            "text/plain": [
              "0.0"
            ]
          },
          "metadata": {
            "tags": []
          },
          "execution_count": 50
        }
      ]
    },
    {
      "cell_type": "code",
      "metadata": {
        "id": "1iPK5ZLHy3lq",
        "colab_type": "code",
        "outputId": "1a24ced6-d558-4d15-962a-d573c3b6be00",
        "colab": {
          "base_uri": "https://localhost:8080/",
          "height": 111
        }
      },
      "source": [
        "# confustion matrix\n",
        "pd.DataFrame(confusion_matrix(y_test, smote_pred))"
      ],
      "execution_count": 0,
      "outputs": [
        {
          "output_type": "execute_result",
          "data": {
            "text/html": [
              "<div>\n",
              "<style scoped>\n",
              "    .dataframe tbody tr th:only-of-type {\n",
              "        vertical-align: middle;\n",
              "    }\n",
              "\n",
              "    .dataframe tbody tr th {\n",
              "        vertical-align: top;\n",
              "    }\n",
              "\n",
              "    .dataframe thead th {\n",
              "        text-align: right;\n",
              "    }\n",
              "</style>\n",
              "<table border=\"1\" class=\"dataframe\">\n",
              "  <thead>\n",
              "    <tr style=\"text-align: right;\">\n",
              "      <th></th>\n",
              "      <th>0</th>\n",
              "      <th>1</th>\n",
              "    </tr>\n",
              "  </thead>\n",
              "  <tbody>\n",
              "    <tr>\n",
              "      <th>0</th>\n",
              "      <td>28846</td>\n",
              "      <td>0</td>\n",
              "    </tr>\n",
              "    <tr>\n",
              "      <th>1</th>\n",
              "      <td>169</td>\n",
              "      <td>0</td>\n",
              "    </tr>\n",
              "  </tbody>\n",
              "</table>\n",
              "</div>"
            ],
            "text/plain": [
              "       0  1\n",
              "0  28846  0\n",
              "1    169  0"
            ]
          },
          "metadata": {
            "tags": []
          },
          "execution_count": 51
        }
      ]
    },
    {
      "cell_type": "code",
      "metadata": {
        "id": "1dQUBnAIzLjW",
        "colab_type": "code",
        "outputId": "64b30846-27d6-4be8-f292-5cadc26bd8fb",
        "colab": {
          "base_uri": "https://localhost:8080/",
          "height": 34
        }
      },
      "source": [
        "recall_score(y_test, smote_pred)"
      ],
      "execution_count": 0,
      "outputs": [
        {
          "output_type": "execute_result",
          "data": {
            "text/plain": [
              "0.0"
            ]
          },
          "metadata": {
            "tags": []
          },
          "execution_count": 52
        }
      ]
    },
    {
      "cell_type": "markdown",
      "metadata": {
        "id": "sdnaA0wCzSQI",
        "colab_type": "text"
      },
      "source": [
        "Even SMoTE method  on LR  doesn't  work  well  for  this  dataset.\n",
        " So better  go  for  other  algorithms\n"
      ]
    },
    {
      "cell_type": "markdown",
      "metadata": {
        "id": "jI0WAXgaNdAz",
        "colab_type": "text"
      },
      "source": [
        "Random forest using  SMOTE"
      ]
    },
    {
      "cell_type": "code",
      "metadata": {
        "id": "VDlH3zrDNYxi",
        "colab_type": "code",
        "outputId": "a031b1c5-8192-47e8-fee2-08101e79d7ca",
        "colab": {
          "base_uri": "https://localhost:8080/",
          "height": 34
        }
      },
      "source": [
        "# train model\n",
        "smote = RandomForestClassifier(n_estimators=10).fit(X_train, y_train)\n",
        "\n",
        "smote_pred = smote.predict(X_test)\n",
        "\n",
        "# Checking accuracy\n",
        "accuracy_score(y_test, smote_pred)"
      ],
      "execution_count": 0,
      "outputs": [
        {
          "output_type": "execute_result",
          "data": {
            "text/plain": [
              "0.9953472341892124"
            ]
          },
          "metadata": {
            "tags": []
          },
          "execution_count": 53
        }
      ]
    },
    {
      "cell_type": "code",
      "metadata": {
        "id": "39T9ysxDOU7b",
        "colab_type": "code",
        "outputId": "a3288e4a-2c1e-4b5e-f796-dd4944fdf195",
        "colab": {
          "base_uri": "https://localhost:8080/",
          "height": 34
        }
      },
      "source": [
        "# f1 score\n",
        "f1_score(y_test, smote_pred)"
      ],
      "execution_count": 0,
      "outputs": [
        {
          "output_type": "execute_result",
          "data": {
            "text/plain": [
              "0.4705882352941177"
            ]
          },
          "metadata": {
            "tags": []
          },
          "execution_count": 54
        }
      ]
    },
    {
      "cell_type": "code",
      "metadata": {
        "id": "MkrlzVqROdSb",
        "colab_type": "code",
        "outputId": "962a0247-7c6f-488d-fded-f122b52c2303",
        "colab": {
          "base_uri": "https://localhost:8080/",
          "height": 111
        }
      },
      "source": [
        "# confustion matrix\n",
        "pd.DataFrame(confusion_matrix(y_test, smote_pred))"
      ],
      "execution_count": 0,
      "outputs": [
        {
          "output_type": "execute_result",
          "data": {
            "text/html": [
              "<div>\n",
              "<style scoped>\n",
              "    .dataframe tbody tr th:only-of-type {\n",
              "        vertical-align: middle;\n",
              "    }\n",
              "\n",
              "    .dataframe tbody tr th {\n",
              "        vertical-align: top;\n",
              "    }\n",
              "\n",
              "    .dataframe thead th {\n",
              "        text-align: right;\n",
              "    }\n",
              "</style>\n",
              "<table border=\"1\" class=\"dataframe\">\n",
              "  <thead>\n",
              "    <tr style=\"text-align: right;\">\n",
              "      <th></th>\n",
              "      <th>0</th>\n",
              "      <th>1</th>\n",
              "    </tr>\n",
              "  </thead>\n",
              "  <tbody>\n",
              "    <tr>\n",
              "      <th>0</th>\n",
              "      <td>28820</td>\n",
              "      <td>26</td>\n",
              "    </tr>\n",
              "    <tr>\n",
              "      <th>1</th>\n",
              "      <td>109</td>\n",
              "      <td>60</td>\n",
              "    </tr>\n",
              "  </tbody>\n",
              "</table>\n",
              "</div>"
            ],
            "text/plain": [
              "       0   1\n",
              "0  28820  26\n",
              "1    109  60"
            ]
          },
          "metadata": {
            "tags": []
          },
          "execution_count": 55
        }
      ]
    },
    {
      "cell_type": "code",
      "metadata": {
        "id": "bZrgVeU5Oli6",
        "colab_type": "code",
        "outputId": "40f23e00-bb1d-4974-9e69-e43db7a803b1",
        "colab": {
          "base_uri": "https://localhost:8080/",
          "height": 34
        }
      },
      "source": [
        "recall_score(y_test, smote_pred)"
      ],
      "execution_count": 0,
      "outputs": [
        {
          "output_type": "execute_result",
          "data": {
            "text/plain": [
              "0.35502958579881655"
            ]
          },
          "metadata": {
            "tags": []
          },
          "execution_count": 56
        }
      ]
    },
    {
      "cell_type": "code",
      "metadata": {
        "id": "PNAeWtlnTozL",
        "colab_type": "code",
        "colab": {}
      },
      "source": [
        "from sklearn.model_selection import GridSearchCV\n",
        "# Create the parameter grid based on the results of random search \n",
        "param_grid = {\n",
        "    'bootstrap': [True],\n",
        "    'max_depth': [5,10, 15, 20],\n",
        "    'max_features': [2, 3],\n",
        "    'min_samples_leaf': [3, 4, 5],\n",
        "    'min_samples_split': [8, 10, 12],\n",
        "    'n_estimators': [10, 20, 30,50, 100]\n",
        "}"
      ],
      "execution_count": 0,
      "outputs": []
    },
    {
      "cell_type": "code",
      "metadata": {
        "id": "923-XMMkTtAc",
        "colab_type": "code",
        "colab": {}
      },
      "source": [
        "# Create a based model\n",
        "\n",
        "rcf = RandomForestClassifier()"
      ],
      "execution_count": 0,
      "outputs": []
    },
    {
      "cell_type": "code",
      "metadata": {
        "id": "r5hD1u2UUL10",
        "colab_type": "code",
        "colab": {}
      },
      "source": [
        "# Instantiate the grid search model\n",
        "grid_search = GridSearchCV(estimator = rcf, param_grid = param_grid, \n",
        "                          cv = 3, n_jobs = -1, verbose = 2)"
      ],
      "execution_count": 0,
      "outputs": []
    },
    {
      "cell_type": "code",
      "metadata": {
        "id": "1iVSEOlVUcF9",
        "colab_type": "code",
        "outputId": "7efe5c91-ece7-4f64-85a1-18d98032b1a4",
        "colab": {
          "base_uri": "https://localhost:8080/",
          "height": 255
        }
      },
      "source": [
        "# Fit the grid search to the data\n",
        "grid_search.fit(X_train, y_train)\n",
        "grid_search.best_params_"
      ],
      "execution_count": 0,
      "outputs": [
        {
          "output_type": "stream",
          "text": [
            "Fitting 3 folds for each of 360 candidates, totalling 1080 fits\n"
          ],
          "name": "stdout"
        },
        {
          "output_type": "stream",
          "text": [
            "[Parallel(n_jobs=-1)]: Using backend LokyBackend with 2 concurrent workers.\n",
            "[Parallel(n_jobs=-1)]: Done  37 tasks      | elapsed:  1.5min\n",
            "[Parallel(n_jobs=-1)]: Done 158 tasks      | elapsed:  7.1min\n",
            "[Parallel(n_jobs=-1)]: Done 361 tasks      | elapsed: 19.2min\n",
            "[Parallel(n_jobs=-1)]: Done 644 tasks      | elapsed: 41.0min\n",
            "[Parallel(n_jobs=-1)]: Done 1009 tasks      | elapsed: 72.3min\n",
            "[Parallel(n_jobs=-1)]: Done 1080 out of 1080 | elapsed: 79.3min finished\n"
          ],
          "name": "stderr"
        },
        {
          "output_type": "execute_result",
          "data": {
            "text/plain": [
              "{'bootstrap': True,\n",
              " 'max_depth': 20,\n",
              " 'max_features': 3,\n",
              " 'min_samples_leaf': 3,\n",
              " 'min_samples_split': 8,\n",
              " 'n_estimators': 100}"
            ]
          },
          "metadata": {
            "tags": []
          },
          "execution_count": 65
        }
      ]
    },
    {
      "cell_type": "code",
      "metadata": {
        "id": "98rQFkUvv2YF",
        "colab_type": "code",
        "outputId": "3c42fa91-6845-43e5-c813-213f12a8067e",
        "colab": {
          "base_uri": "https://localhost:8080/",
          "height": 34
        }
      },
      "source": [
        "#best_grid = grid_search.best_estimator_\n",
        "#grid_accuracy = evaluate(best_grid, X_train, y_train)\n",
        "\n",
        "smote=RandomForestClassifier(bootstrap=True, max_depth=20, max_features= 3, min_samples_leaf=3, min_samples_split=8, n_estimators= 100).fit(X_train, y_train)\n",
        "\n",
        "smote_pred = smote.predict(X_test)\n",
        "\n",
        "# Checking accuracy\n",
        "accuracy_score(y_test, smote_pred)"
      ],
      "execution_count": 0,
      "outputs": [
        {
          "output_type": "execute_result",
          "data": {
            "text/plain": [
              "0.995140444597622"
            ]
          },
          "metadata": {
            "tags": []
          },
          "execution_count": 72
        }
      ]
    },
    {
      "cell_type": "code",
      "metadata": {
        "id": "HflpBD3ZzIkz",
        "colab_type": "code",
        "outputId": "a9f23cdc-cb84-474f-beb8-1c163cd00200",
        "colab": {
          "base_uri": "https://localhost:8080/",
          "height": 34
        }
      },
      "source": [
        "# f1 score\n",
        "f1_score(y_test, smote_pred)"
      ],
      "execution_count": 0,
      "outputs": [
        {
          "output_type": "execute_result",
          "data": {
            "text/plain": [
              "0.4946236559139785"
            ]
          },
          "metadata": {
            "tags": []
          },
          "execution_count": 73
        }
      ]
    },
    {
      "cell_type": "code",
      "metadata": {
        "id": "aw3HgzJoz4jY",
        "colab_type": "code",
        "outputId": "ce24a126-6944-47a9-b75b-e70079a3a1c1",
        "colab": {
          "base_uri": "https://localhost:8080/",
          "height": 111
        }
      },
      "source": [
        "# confustion matrix\n",
        "pd.DataFrame(confusion_matrix(y_test, smote_pred))"
      ],
      "execution_count": 0,
      "outputs": [
        {
          "output_type": "execute_result",
          "data": {
            "text/html": [
              "<div>\n",
              "<style scoped>\n",
              "    .dataframe tbody tr th:only-of-type {\n",
              "        vertical-align: middle;\n",
              "    }\n",
              "\n",
              "    .dataframe tbody tr th {\n",
              "        vertical-align: top;\n",
              "    }\n",
              "\n",
              "    .dataframe thead th {\n",
              "        text-align: right;\n",
              "    }\n",
              "</style>\n",
              "<table border=\"1\" class=\"dataframe\">\n",
              "  <thead>\n",
              "    <tr style=\"text-align: right;\">\n",
              "      <th></th>\n",
              "      <th>0</th>\n",
              "      <th>1</th>\n",
              "    </tr>\n",
              "  </thead>\n",
              "  <tbody>\n",
              "    <tr>\n",
              "      <th>0</th>\n",
              "      <td>28805</td>\n",
              "      <td>41</td>\n",
              "    </tr>\n",
              "    <tr>\n",
              "      <th>1</th>\n",
              "      <td>100</td>\n",
              "      <td>69</td>\n",
              "    </tr>\n",
              "  </tbody>\n",
              "</table>\n",
              "</div>"
            ],
            "text/plain": [
              "       0   1\n",
              "0  28805  41\n",
              "1    100  69"
            ]
          },
          "metadata": {
            "tags": []
          },
          "execution_count": 74
        }
      ]
    },
    {
      "cell_type": "code",
      "metadata": {
        "id": "x43buXbY0EDF",
        "colab_type": "code",
        "outputId": "5858ca0c-69a1-469b-ad94-887b2912a14d",
        "colab": {
          "base_uri": "https://localhost:8080/",
          "height": 34
        }
      },
      "source": [
        "recall_score(y_test, smote_pred)"
      ],
      "execution_count": 0,
      "outputs": [
        {
          "output_type": "execute_result",
          "data": {
            "text/plain": [
              "0.40828402366863903"
            ]
          },
          "metadata": {
            "tags": []
          },
          "execution_count": 75
        }
      ]
    },
    {
      "cell_type": "markdown",
      "metadata": {
        "id": "zGy9V04gK7C2",
        "colab_type": "text"
      },
      "source": [
        "Extreme Gradient Boosting (XGB)"
      ]
    },
    {
      "cell_type": "code",
      "metadata": {
        "id": "1NEHXMuvK5b4",
        "colab_type": "code",
        "outputId": "f6abe0e2-0f79-4b95-8e49-67b6de779eb4",
        "colab": {
          "base_uri": "https://localhost:8080/",
          "height": 34
        }
      },
      "source": [
        "#XGB - Without hyperparameters tuning\n",
        "\n",
        "import xgboost as xgb\n",
        "\n",
        "# xgb\n",
        "xgb_cf0 = xgb.XGBClassifier(n_jobs = -1).fit(X_train, y_train)\n",
        "\n",
        "\n",
        "xgb_cf0_pred = xgb_cf0.predict(X_test.values)\n",
        "\n",
        "#Checking accuracy\n",
        "accuracy_score(y_test, xgb_cf0_pred)\n",
        "\n",
        "\n",
        "#( need  np.array\n",
        " #predictions = my_model.predict(test_data_process.values) )"
      ],
      "execution_count": 0,
      "outputs": [
        {
          "output_type": "execute_result",
          "data": {
            "text/plain": [
              "0.9948647251421678"
            ]
          },
          "metadata": {
            "tags": []
          },
          "execution_count": 86
        }
      ]
    },
    {
      "cell_type": "code",
      "metadata": {
        "id": "AOEvkJS5RTmf",
        "colab_type": "code",
        "outputId": "2a6a28e8-c870-4b94-fc3a-5f08f7aff28a",
        "colab": {
          "base_uri": "https://localhost:8080/",
          "height": 34
        }
      },
      "source": [
        "# f1 score\n",
        "f1_score(y_test, xgb_cf0_pred)"
      ],
      "execution_count": 0,
      "outputs": [
        {
          "output_type": "execute_result",
          "data": {
            "text/plain": [
              "0.4983164983164984"
            ]
          },
          "metadata": {
            "tags": []
          },
          "execution_count": 87
        }
      ]
    },
    {
      "cell_type": "code",
      "metadata": {
        "id": "UAjOaTlQRceR",
        "colab_type": "code",
        "outputId": "b8e0a7ca-032d-4fc2-ce89-853390508e7b",
        "colab": {
          "base_uri": "https://localhost:8080/",
          "height": 111
        }
      },
      "source": [
        "# confustion matrix\n",
        "pd.DataFrame(confusion_matrix(y_test, xgb_cf0_pred))"
      ],
      "execution_count": 0,
      "outputs": [
        {
          "output_type": "execute_result",
          "data": {
            "text/html": [
              "<div>\n",
              "<style scoped>\n",
              "    .dataframe tbody tr th:only-of-type {\n",
              "        vertical-align: middle;\n",
              "    }\n",
              "\n",
              "    .dataframe tbody tr th {\n",
              "        vertical-align: top;\n",
              "    }\n",
              "\n",
              "    .dataframe thead th {\n",
              "        text-align: right;\n",
              "    }\n",
              "</style>\n",
              "<table border=\"1\" class=\"dataframe\">\n",
              "  <thead>\n",
              "    <tr style=\"text-align: right;\">\n",
              "      <th></th>\n",
              "      <th>0</th>\n",
              "      <th>1</th>\n",
              "    </tr>\n",
              "  </thead>\n",
              "  <tbody>\n",
              "    <tr>\n",
              "      <th>0</th>\n",
              "      <td>28792</td>\n",
              "      <td>54</td>\n",
              "    </tr>\n",
              "    <tr>\n",
              "      <th>1</th>\n",
              "      <td>95</td>\n",
              "      <td>74</td>\n",
              "    </tr>\n",
              "  </tbody>\n",
              "</table>\n",
              "</div>"
            ],
            "text/plain": [
              "       0   1\n",
              "0  28792  54\n",
              "1     95  74"
            ]
          },
          "metadata": {
            "tags": []
          },
          "execution_count": 96
        }
      ]
    },
    {
      "cell_type": "code",
      "metadata": {
        "id": "tinpbj5rRc3x",
        "colab_type": "code",
        "outputId": "5a72f05e-7059-4c2c-9b66-a97579c9951d",
        "colab": {
          "base_uri": "https://localhost:8080/",
          "height": 34
        }
      },
      "source": [
        "recall_score(y_test, xgb_cf0_pred)"
      ],
      "execution_count": 0,
      "outputs": [
        {
          "output_type": "execute_result",
          "data": {
            "text/plain": [
              "0.4378698224852071"
            ]
          },
          "metadata": {
            "tags": []
          },
          "execution_count": 89
        }
      ]
    },
    {
      "cell_type": "markdown",
      "metadata": {
        "id": "knb2OuUqR1PW",
        "colab_type": "text"
      },
      "source": [
        "XGB - Grid Search CV to find best n_estimators (F1_score)\n",
        "\n",
        "Grid search CV is really slow, you can add or remove some hyperparameters (or use early_stop) "
      ]
    },
    {
      "cell_type": "code",
      "metadata": {
        "id": "DNguoAllSvCP",
        "colab_type": "code",
        "outputId": "1307ad2b-487a-4b82-816d-448bba1df8b4",
        "colab": {
          "base_uri": "https://localhost:8080/",
          "height": 666
        }
      },
      "source": [
        "param_grid = {\n",
        "            'n_estimators': [100, 200, 300,400,500]\n",
        "              }\n",
        "\n",
        "CV_xgb_cf1 = GridSearchCV(estimator = xgb_cfl, param_grid = param_grid, scoring ='f1', verbose = 2)\n",
        "CV_xgb_cf1.fit(X_train, y_train)\n",
        "\n",
        "best_parameters = CV_xgb_cf1.best_params_\n",
        "print(\"The best parameters for using this model is\", best_parameters)"
      ],
      "execution_count": 0,
      "outputs": [
        {
          "output_type": "stream",
          "text": [
            "/usr/local/lib/python3.6/dist-packages/sklearn/model_selection/_split.py:1978: FutureWarning: The default value of cv will change from 3 to 5 in version 0.22. Specify it explicitly to silence this warning.\n",
            "  warnings.warn(CV_WARNING, FutureWarning)\n",
            "[Parallel(n_jobs=1)]: Using backend SequentialBackend with 1 concurrent workers.\n"
          ],
          "name": "stderr"
        },
        {
          "output_type": "stream",
          "text": [
            "Fitting 3 folds for each of 5 candidates, totalling 15 fits\n",
            "[CV] n_estimators=100 ................................................\n",
            "[CV] ................................. n_estimators=100, total=  12.1s\n",
            "[CV] n_estimators=100 ................................................\n"
          ],
          "name": "stdout"
        },
        {
          "output_type": "stream",
          "text": [
            "[Parallel(n_jobs=1)]: Done   1 out of   1 | elapsed:   12.1s remaining:    0.0s\n"
          ],
          "name": "stderr"
        },
        {
          "output_type": "stream",
          "text": [
            "[CV] ................................. n_estimators=100, total=  12.3s\n",
            "[CV] n_estimators=100 ................................................\n",
            "[CV] ................................. n_estimators=100, total=  12.3s\n",
            "[CV] n_estimators=200 ................................................\n",
            "[CV] ................................. n_estimators=200, total=  24.5s\n",
            "[CV] n_estimators=200 ................................................\n",
            "[CV] ................................. n_estimators=200, total=  24.1s\n",
            "[CV] n_estimators=200 ................................................\n",
            "[CV] ................................. n_estimators=200, total=  24.8s\n",
            "[CV] n_estimators=300 ................................................\n",
            "[CV] ................................. n_estimators=300, total=  36.6s\n",
            "[CV] n_estimators=300 ................................................\n",
            "[CV] ................................. n_estimators=300, total=  36.6s\n",
            "[CV] n_estimators=300 ................................................\n",
            "[CV] ................................. n_estimators=300, total=  36.8s\n",
            "[CV] n_estimators=400 ................................................\n",
            "[CV] ................................. n_estimators=400, total=  48.1s\n",
            "[CV] n_estimators=400 ................................................\n",
            "[CV] ................................. n_estimators=400, total=  47.9s\n",
            "[CV] n_estimators=400 ................................................\n",
            "[CV] ................................. n_estimators=400, total=  48.0s\n",
            "[CV] n_estimators=500 ................................................\n",
            "[CV] ................................. n_estimators=500, total=  59.4s\n",
            "[CV] n_estimators=500 ................................................\n",
            "[CV] ................................. n_estimators=500, total=  59.3s\n",
            "[CV] n_estimators=500 ................................................\n",
            "[CV] ................................. n_estimators=500, total=  59.5s\n"
          ],
          "name": "stdout"
        },
        {
          "output_type": "stream",
          "text": [
            "[Parallel(n_jobs=1)]: Done  15 out of  15 | elapsed:  9.0min finished\n"
          ],
          "name": "stderr"
        },
        {
          "output_type": "stream",
          "text": [
            "The best parameters for using this model is {'n_estimators': 300}\n"
          ],
          "name": "stdout"
        }
      ]
    },
    {
      "cell_type": "markdown",
      "metadata": {
        "id": "rK4EB2RkSfMe",
        "colab_type": "text"
      },
      "source": [
        "XGB - With best hyperparameters"
      ]
    },
    {
      "cell_type": "code",
      "metadata": {
        "id": "DZWSPG0_dQdE",
        "colab_type": "code",
        "outputId": "33c1255e-7fe9-419b-9eea-5ba7ec89c64c",
        "colab": {
          "base_uri": "https://localhost:8080/",
          "height": 34
        }
      },
      "source": [
        "xgb_cf1 = xgb.XGBClassifier(n_jobs = -1, \n",
        "                            n_estimators = 300)\n",
        "\n",
        "xgb_cf1.fit(X_train, y_train)\n",
        "xgb_cf1_pred = xgb_cfl.predict(X_test.values)\n",
        "\n",
        "#Checking accuracy\n",
        "accuracy_score(y_test, xgb_cf1_pred)"
      ],
      "execution_count": 0,
      "outputs": [
        {
          "output_type": "execute_result",
          "data": {
            "text/plain": [
              "0.9948647251421678"
            ]
          },
          "metadata": {
            "tags": []
          },
          "execution_count": 103
        }
      ]
    },
    {
      "cell_type": "code",
      "metadata": {
        "id": "UUOcLkqke13w",
        "colab_type": "code",
        "outputId": "837acc96-a5cf-4b02-9422-01150f26af36",
        "colab": {
          "base_uri": "https://localhost:8080/",
          "height": 34
        }
      },
      "source": [
        "# f1 score\n",
        "f1_score(y_test, xgb_cf1_pred)"
      ],
      "execution_count": 0,
      "outputs": [
        {
          "output_type": "execute_result",
          "data": {
            "text/plain": [
              "0.4983164983164984"
            ]
          },
          "metadata": {
            "tags": []
          },
          "execution_count": 104
        }
      ]
    },
    {
      "cell_type": "code",
      "metadata": {
        "id": "ONeCugVhe2jA",
        "colab_type": "code",
        "outputId": "e57e5c79-f63c-4512-dfd8-195b00e1e026",
        "colab": {
          "base_uri": "https://localhost:8080/",
          "height": 111
        }
      },
      "source": [
        "# confustion matrix\n",
        "pd.DataFrame(confusion_matrix(y_test, xgb_cf1_pred))"
      ],
      "execution_count": 0,
      "outputs": [
        {
          "output_type": "execute_result",
          "data": {
            "text/html": [
              "<div>\n",
              "<style scoped>\n",
              "    .dataframe tbody tr th:only-of-type {\n",
              "        vertical-align: middle;\n",
              "    }\n",
              "\n",
              "    .dataframe tbody tr th {\n",
              "        vertical-align: top;\n",
              "    }\n",
              "\n",
              "    .dataframe thead th {\n",
              "        text-align: right;\n",
              "    }\n",
              "</style>\n",
              "<table border=\"1\" class=\"dataframe\">\n",
              "  <thead>\n",
              "    <tr style=\"text-align: right;\">\n",
              "      <th></th>\n",
              "      <th>0</th>\n",
              "      <th>1</th>\n",
              "    </tr>\n",
              "  </thead>\n",
              "  <tbody>\n",
              "    <tr>\n",
              "      <th>0</th>\n",
              "      <td>28792</td>\n",
              "      <td>54</td>\n",
              "    </tr>\n",
              "    <tr>\n",
              "      <th>1</th>\n",
              "      <td>95</td>\n",
              "      <td>74</td>\n",
              "    </tr>\n",
              "  </tbody>\n",
              "</table>\n",
              "</div>"
            ],
            "text/plain": [
              "       0   1\n",
              "0  28792  54\n",
              "1     95  74"
            ]
          },
          "metadata": {
            "tags": []
          },
          "execution_count": 105
        }
      ]
    },
    {
      "cell_type": "code",
      "metadata": {
        "id": "P_sRVRtOe3AA",
        "colab_type": "code",
        "outputId": "5084d32e-e8ff-4cfd-939d-e12d0d1714e8",
        "colab": {
          "base_uri": "https://localhost:8080/",
          "height": 34
        }
      },
      "source": [
        "recall_score(y_test,xgb_cf1_pred)"
      ],
      "execution_count": 0,
      "outputs": [
        {
          "output_type": "execute_result",
          "data": {
            "text/plain": [
              "0.4378698224852071"
            ]
          },
          "metadata": {
            "tags": []
          },
          "execution_count": 106
        }
      ]
    },
    {
      "cell_type": "code",
      "metadata": {
        "id": "xkoLaz59rEWG",
        "colab_type": "code",
        "colab": {}
      },
      "source": [
        "from sklearn.ensemble import AdaBoostClassifier\n",
        "#from catboost import CatBoostClassifier\n",
        "from sklearn import svm\n",
        "import lightgbm as lgb\n",
        "from lightgbm import LGBMClassifier"
      ],
      "execution_count": 0,
      "outputs": []
    },
    {
      "cell_type": "markdown",
      "metadata": {
        "id": "tC3vOVhHrzw4",
        "colab_type": "text"
      },
      "source": [
        "AdaBoostClassifier¶\n",
        "AdaBoostClassifier stands for Adaptive Boosting Classifier [5].\n",
        "\n",
        "Prepare the model\n",
        "Let's set the parameters for the model and initialize the model."
      ]
    },
    {
      "cell_type": "code",
      "metadata": {
        "id": "-wX9wVxbr1kl",
        "colab_type": "code",
        "colab": {}
      },
      "source": [
        "clf = AdaBoostClassifier(random_state=42,\n",
        "                         \n",
        "                         learning_rate=0.8,\n",
        "                             n_estimators=100)"
      ],
      "execution_count": 0,
      "outputs": []
    },
    {
      "cell_type": "code",
      "metadata": {
        "id": "kOt1poNKsfsT",
        "colab_type": "code",
        "outputId": "2a661081-0955-4086-a548-933090a2d8d3",
        "colab": {
          "base_uri": "https://localhost:8080/",
          "height": 34
        }
      },
      "source": [
        "clf.fit(X_train, y_train)\n",
        "clf_pred = clf.predict(X_test.values)\n",
        "\n",
        "#Checking accuracy\n",
        "accuracy_score(y_test, clf_pred)"
      ],
      "execution_count": 0,
      "outputs": [
        {
          "output_type": "execute_result",
          "data": {
            "text/plain": [
              "0.9947613303463726"
            ]
          },
          "metadata": {
            "tags": []
          },
          "execution_count": 112
        }
      ]
    },
    {
      "cell_type": "code",
      "metadata": {
        "id": "DWtTdRifs99-",
        "colab_type": "code",
        "outputId": "84b76fa3-1041-4473-8e45-fde2432118c6",
        "colab": {
          "base_uri": "https://localhost:8080/",
          "height": 34
        }
      },
      "source": [
        "# f1 score\n",
        "f1_score(y_test, clf_pred)"
      ],
      "execution_count": 0,
      "outputs": [
        {
          "output_type": "execute_result",
          "data": {
            "text/plain": [
              "0.4829931972789115"
            ]
          },
          "metadata": {
            "tags": []
          },
          "execution_count": 113
        }
      ]
    },
    {
      "cell_type": "code",
      "metadata": {
        "id": "M-AVCAJAtL7s",
        "colab_type": "code",
        "outputId": "a779e8d5-5c52-48b4-e3e0-363ea28eb9ef",
        "colab": {
          "base_uri": "https://localhost:8080/",
          "height": 111
        }
      },
      "source": [
        "# confustion matrix\n",
        "pd.DataFrame(confusion_matrix(y_test, clf_pred))"
      ],
      "execution_count": 0,
      "outputs": [
        {
          "output_type": "execute_result",
          "data": {
            "text/html": [
              "<div>\n",
              "<style scoped>\n",
              "    .dataframe tbody tr th:only-of-type {\n",
              "        vertical-align: middle;\n",
              "    }\n",
              "\n",
              "    .dataframe tbody tr th {\n",
              "        vertical-align: top;\n",
              "    }\n",
              "\n",
              "    .dataframe thead th {\n",
              "        text-align: right;\n",
              "    }\n",
              "</style>\n",
              "<table border=\"1\" class=\"dataframe\">\n",
              "  <thead>\n",
              "    <tr style=\"text-align: right;\">\n",
              "      <th></th>\n",
              "      <th>0</th>\n",
              "      <th>1</th>\n",
              "    </tr>\n",
              "  </thead>\n",
              "  <tbody>\n",
              "    <tr>\n",
              "      <th>0</th>\n",
              "      <td>28792</td>\n",
              "      <td>54</td>\n",
              "    </tr>\n",
              "    <tr>\n",
              "      <th>1</th>\n",
              "      <td>98</td>\n",
              "      <td>71</td>\n",
              "    </tr>\n",
              "  </tbody>\n",
              "</table>\n",
              "</div>"
            ],
            "text/plain": [
              "       0   1\n",
              "0  28792  54\n",
              "1     98  71"
            ]
          },
          "metadata": {
            "tags": []
          },
          "execution_count": 114
        }
      ]
    },
    {
      "cell_type": "code",
      "metadata": {
        "id": "L17weMgotVeT",
        "colab_type": "code",
        "outputId": "e1cacca0-cbc8-498a-82e6-2eff00b3fcff",
        "colab": {
          "base_uri": "https://localhost:8080/",
          "height": 34
        }
      },
      "source": [
        "recall_score(y_test,clf_pred)"
      ],
      "execution_count": 0,
      "outputs": [
        {
          "output_type": "execute_result",
          "data": {
            "text/plain": [
              "0.42011834319526625"
            ]
          },
          "metadata": {
            "tags": []
          },
          "execution_count": 115
        }
      ]
    }
  ]
}